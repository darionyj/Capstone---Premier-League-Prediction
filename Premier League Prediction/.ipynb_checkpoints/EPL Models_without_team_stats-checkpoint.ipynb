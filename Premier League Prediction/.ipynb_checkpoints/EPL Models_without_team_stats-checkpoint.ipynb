{
 "cells": [
  {
   "cell_type": "markdown",
   "metadata": {},
   "source": [
    "# MODELING "
   ]
  },
  {
   "cell_type": "code",
   "execution_count": 1,
   "metadata": {},
   "outputs": [],
   "source": [
    "import pandas as pd\n",
    "import numpy as np\n",
    "import seaborn as sns\n",
    "import matplotlib.pyplot as plt\n",
    "import itertools\n",
    "import functools\n",
    "import pickle\n",
    "\n",
    "from sklearn.ensemble import RandomForestClassifier, ExtraTreesClassifier, AdaBoostClassifier, GradientBoostingClassifier\n",
    "from sklearn import svm\n",
    "from sklearn.linear_model import LogisticRegression\n",
    "from sklearn.model_selection import train_test_split, GridSearchCV\n",
    "from sklearn.metrics import precision_score,confusion_matrix,accuracy_score,recall_score,f1_score,precision_recall_fscore_support\n",
    "from sklearn.metrics import classification_report, multilabel_confusion_matrix,plot_confusion_matrix,roc_auc_score\n",
    "from sklearn.naive_bayes import GaussianNB, BernoulliNB\n",
    "\n",
    "\n",
    "from sklearn.svm import SVC\n",
    "from sklearn.preprocessing import MinMaxScaler\n",
    "from xgboost import XGBClassifier\n",
    "from sklearn.tree import DecisionTreeClassifier,plot_tree, export_graphviz\n",
    "\n",
    "import warnings\n",
    "import graphviz\n",
    "warnings.filterwarnings(\"ignore\")\n"
   ]
  },
  {
   "cell_type": "code",
   "execution_count": 2,
   "metadata": {},
   "outputs": [],
   "source": [
    "#Displaying all rows and columns of dataset\n",
    "pd.set_option('display.max_rows',None) \n",
    "pd.set_option('display.max_columns',None) \n",
    "\n",
    "#Inputting colors and size for text\n",
    "class color:\n",
    "   PURPLE = '\\033[95m'\n",
    "   CYAN = '\\033[96m'\n",
    "   DARKCYAN = '\\033[36m'\n",
    "   BLUE = '\\033[94m'\n",
    "   GREEN = '\\033[92m'\n",
    "   YELLOW = '\\033[93m'\n",
    "   RED = '\\033[91m'\n",
    "   BOLD = '\\033[1m'\n",
    "   UNDERLINE = '\\033[4m'\n",
    "   END = '\\033[0m'"
   ]
  },
  {
   "cell_type": "markdown",
   "metadata": {},
   "source": [
    "## Preparing Dataset"
   ]
  },
  {
   "cell_type": "code",
   "execution_count": 3,
   "metadata": {},
   "outputs": [],
   "source": [
    "train = pd.read_csv('data/clean_first/combined_final_test.csv')"
   ]
  },
  {
   "cell_type": "code",
   "execution_count": 4,
   "metadata": {},
   "outputs": [
    {
     "data": {
      "text/plain": [
       "(1323, 199)"
      ]
     },
     "execution_count": 4,
     "metadata": {},
     "output_type": "execute_result"
    }
   ],
   "source": [
    "train.shape"
   ]
  },
  {
   "cell_type": "code",
   "execution_count": 5,
   "metadata": {
    "scrolled": true
   },
   "outputs": [
    {
     "data": {
      "text/plain": [
       "h_last_5_avrg_gls             12\n",
       "h_last_5_avrg_ast             12\n",
       "h_last_5_avrg_pk              12\n",
       "h_last_5_avrg_pkatt           12\n",
       "h_last_5_avrg_sh              12\n",
       "h_last_5_avrg_sot             12\n",
       "h_last_5_avrg_yellow          12\n",
       "h_last_5_avrg_red             12\n",
       "h_last_5_touches              12\n",
       "h_last_5_avrg_press           12\n",
       "h_last_5_avrg_tkl             12\n",
       "h_last_5_avrg_int             12\n",
       "h_last_5_avrg_blk             12\n",
       "h_last_5_avrg_xg              12\n",
       "h_last_5_avrg_npxg            12\n",
       "h_last_5_avrg_xa              12\n",
       "h_last_5_avrg_sca             12\n",
       "h_last_5_avrg_gca             12\n",
       "h_last_5_avrg_cmp             12\n",
       "h_last_5_avrg_pass_att        12\n",
       "h_last_5_avrg_pass_prog       12\n",
       "h_last_5_avrg_carries         12\n",
       "h_last_5_avrg_carries_prog    12\n",
       "h_last_5_avrg_dri_succ        12\n",
       "h_last_5_avrg_dri_att         12\n",
       "h_last_5_avrg_yellow2         12\n",
       "h_last_5_avrg_fls             12\n",
       "h_last_5_avrg_fld             12\n",
       "h_last_5_avrg_off             12\n",
       "h_last_5_avrg_crs             12\n",
       "h_last_5_avrg_tklw            12\n",
       "h_last_5_avrg_pkwon           12\n",
       "h_last_5_avrg_pkcon           12\n",
       "h_last_5_avrg_og              12\n",
       "h_last_5_avrg_recov           12\n",
       "h_last_5_avrg_aer_won         12\n",
       "h_last_5_avrg_aer_lost        12\n",
       "a_last_5_avrg_gls             15\n",
       "a_last_5_avrg_ast             15\n",
       "a_last_5_avrg_pk              15\n",
       "a_last_5_avrg_pkatt           15\n",
       "a_last_5_avrg_sh              15\n",
       "a_last_5_avrg_sot             15\n",
       "a_last_5_avrg_yellow          15\n",
       "a_last_5_avrg_red             15\n",
       "a_last_5_touches              15\n",
       "a_last_5_avrg_press           15\n",
       "a_last_5_avrg_tkl             15\n",
       "a_last_5_avrg_int             15\n",
       "a_last_5_avrg_blk             15\n",
       "a_last_5_avrg_xg              15\n",
       "a_last_5_avrg_npxg            15\n",
       "a_last_5_avrg_xa              15\n",
       "a_last_5_avrg_sca             15\n",
       "a_last_5_avrg_gca             15\n",
       "a_last_5_avrg_cmp             15\n",
       "a_last_5_avrg_pass_att        15\n",
       "a_last_5_avrg_pass_prog       15\n",
       "a_last_5_avrg_carries         15\n",
       "a_last_5_avrg_carries_prog    15\n",
       "a_last_5_avrg_dri_succ        15\n",
       "a_last_5_avrg_dri_att         15\n",
       "a_last_5_avrg_yellow2         15\n",
       "a_last_5_avrg_fls             15\n",
       "a_last_5_avrg_fld             15\n",
       "a_last_5_avrg_off             15\n",
       "a_last_5_avrg_crs             15\n",
       "a_last_5_avrg_tklw            15\n",
       "a_last_5_avrg_pkwon           15\n",
       "a_last_5_avrg_pkcon           15\n",
       "a_last_5_avrg_og              15\n",
       "a_last_5_avrg_recov           15\n",
       "a_last_5_avrg_aer_won         15\n",
       "a_last_5_avrg_aer_lost        15\n",
       "dtype: int64"
      ]
     },
     "execution_count": 5,
     "metadata": {},
     "output_type": "execute_result"
    }
   ],
   "source": [
    "train.isnull().sum()[train.isnull().sum()>0] "
   ]
  },
  {
   "cell_type": "code",
   "execution_count": 6,
   "metadata": {
    "scrolled": false
   },
   "outputs": [],
   "source": [
    "train = train.dropna(axis='rows')"
   ]
  },
  {
   "cell_type": "code",
   "execution_count": 7,
   "metadata": {},
   "outputs": [
    {
     "data": {
      "text/plain": [
       "date                          0\n",
       "match                         0\n",
       "stadium                       0\n",
       "attendance                    0\n",
       "h_gls                         0\n",
       "h_ast                         0\n",
       "h_pk                          0\n",
       "h_pkatt                       0\n",
       "h_sh                          0\n",
       "h_sot                         0\n",
       "h_yellow                      0\n",
       "h_red                         0\n",
       "h_touches                     0\n",
       "h_press                       0\n",
       "h_tkl                         0\n",
       "h_int                         0\n",
       "h_blk                         0\n",
       "h_xg                          0\n",
       "h_npxg                        0\n",
       "h_xa                          0\n",
       "h_sca                         0\n",
       "h_gca                         0\n",
       "h_cmp                         0\n",
       "h_pass_att                    0\n",
       "h_pass_prog                   0\n",
       "h_carries                     0\n",
       "h_carries_prog                0\n",
       "h_dri_succ                    0\n",
       "h_dri_att                     0\n",
       "h_yellow2                     0\n",
       "h_fls                         0\n",
       "h_fld                         0\n",
       "h_off                         0\n",
       "h_crs                         0\n",
       "h_tklw                        0\n",
       "h_pkwon                       0\n",
       "h_pkcon                       0\n",
       "h_og                          0\n",
       "h_recov                       0\n",
       "h_aer_won                     0\n",
       "h_aer_lost                    0\n",
       "h_last_5_avrg_gls             0\n",
       "h_last_5_avrg_ast             0\n",
       "h_last_5_avrg_pk              0\n",
       "h_last_5_avrg_pkatt           0\n",
       "h_last_5_avrg_sh              0\n",
       "h_last_5_avrg_sot             0\n",
       "h_last_5_avrg_yellow          0\n",
       "h_last_5_avrg_red             0\n",
       "h_last_5_touches              0\n",
       "h_last_5_avrg_press           0\n",
       "h_last_5_avrg_tkl             0\n",
       "h_last_5_avrg_int             0\n",
       "h_last_5_avrg_blk             0\n",
       "h_last_5_avrg_xg              0\n",
       "h_last_5_avrg_npxg            0\n",
       "h_last_5_avrg_xa              0\n",
       "h_last_5_avrg_sca             0\n",
       "h_last_5_avrg_gca             0\n",
       "h_last_5_avrg_cmp             0\n",
       "h_last_5_avrg_pass_att        0\n",
       "h_last_5_avrg_pass_prog       0\n",
       "h_last_5_avrg_carries         0\n",
       "h_last_5_avrg_carries_prog    0\n",
       "h_last_5_avrg_dri_succ        0\n",
       "h_last_5_avrg_dri_att         0\n",
       "h_last_5_avrg_yellow2         0\n",
       "h_last_5_avrg_fls             0\n",
       "h_last_5_avrg_fld             0\n",
       "h_last_5_avrg_off             0\n",
       "h_last_5_avrg_crs             0\n",
       "h_last_5_avrg_tklw            0\n",
       "h_last_5_avrg_pkwon           0\n",
       "h_last_5_avrg_pkcon           0\n",
       "h_last_5_avrg_og              0\n",
       "h_last_5_avrg_recov           0\n",
       "h_last_5_avrg_aer_won         0\n",
       "h_last_5_avrg_aer_lost        0\n",
       "a_gls                         0\n",
       "a_ast                         0\n",
       "a_pk                          0\n",
       "a_pkatt                       0\n",
       "a_sh                          0\n",
       "a_sot                         0\n",
       "a_yellow                      0\n",
       "a_red                         0\n",
       "a_touches                     0\n",
       "a_press                       0\n",
       "a_tkl                         0\n",
       "a_int                         0\n",
       "a_blk                         0\n",
       "a_xg                          0\n",
       "a_npxg                        0\n",
       "a_xa                          0\n",
       "a_sca                         0\n",
       "a_gca                         0\n",
       "a_cmp                         0\n",
       "a_pass_att                    0\n",
       "a_pass_prog                   0\n",
       "a_carries                     0\n",
       "a_carries_prog                0\n",
       "a_dri_succ                    0\n",
       "a_dri_att                     0\n",
       "a_yellow2                     0\n",
       "a_fls                         0\n",
       "a_fld                         0\n",
       "a_off                         0\n",
       "a_crs                         0\n",
       "a_tklw                        0\n",
       "a_pwon                        0\n",
       "a_pkcon                       0\n",
       "a_og                          0\n",
       "a_recov                       0\n",
       "a_aer_won                     0\n",
       "a_aer_lost                    0\n",
       "a_last_5_avrg_gls             0\n",
       "a_last_5_avrg_ast             0\n",
       "a_last_5_avrg_pk              0\n",
       "a_last_5_avrg_pkatt           0\n",
       "a_last_5_avrg_sh              0\n",
       "a_last_5_avrg_sot             0\n",
       "a_last_5_avrg_yellow          0\n",
       "a_last_5_avrg_red             0\n",
       "a_last_5_touches              0\n",
       "a_last_5_avrg_press           0\n",
       "a_last_5_avrg_tkl             0\n",
       "a_last_5_avrg_int             0\n",
       "a_last_5_avrg_blk             0\n",
       "a_last_5_avrg_xg              0\n",
       "a_last_5_avrg_npxg            0\n",
       "a_last_5_avrg_xa              0\n",
       "a_last_5_avrg_sca             0\n",
       "a_last_5_avrg_gca             0\n",
       "a_last_5_avrg_cmp             0\n",
       "a_last_5_avrg_pass_att        0\n",
       "a_last_5_avrg_pass_prog       0\n",
       "a_last_5_avrg_carries         0\n",
       "a_last_5_avrg_carries_prog    0\n",
       "a_last_5_avrg_dri_succ        0\n",
       "a_last_5_avrg_dri_att         0\n",
       "a_last_5_avrg_yellow2         0\n",
       "a_last_5_avrg_fls             0\n",
       "a_last_5_avrg_fld             0\n",
       "a_last_5_avrg_off             0\n",
       "a_last_5_avrg_crs             0\n",
       "a_last_5_avrg_tklw            0\n",
       "a_last_5_avrg_pkwon           0\n",
       "a_last_5_avrg_pkcon           0\n",
       "a_last_5_avrg_og              0\n",
       "a_last_5_avrg_recov           0\n",
       "a_last_5_avrg_aer_won         0\n",
       "a_last_5_avrg_aer_lost        0\n",
       "result                        0\n",
       "h_last5match                  0\n",
       "h_accumulatpts                0\n",
       "a_last5match                  0\n",
       "a_accumulatpts                0\n",
       "h_total_goals                 0\n",
       "a_total_goals                 0\n",
       "total_goals                   0\n",
       "h_matchplayed                 0\n",
       "h_matchwon                    0\n",
       "h_matchlost                   0\n",
       "h_matchdrawn                  0\n",
       "h_goalsscored                 0\n",
       "h_goalsconceded               0\n",
       "a_matchplayed                 0\n",
       "a_matchwon                    0\n",
       "a_matchlost                   0\n",
       "a_matchdrawn                  0\n",
       "a_goalsscored                 0\n",
       "a_goalsconceded               0\n",
       "Arsenal                       0\n",
       "Aston Villa                   0\n",
       "Bournemouth                   0\n",
       "Brighton & Hove Albion        0\n",
       "Burnley                       0\n",
       "Cardiff City                  0\n",
       "Chelsea                       0\n",
       "Crystal Palace                0\n",
       "Everton                       0\n",
       "Fulham                        0\n",
       "Huddersfield Town             0\n",
       "Leeds United                  0\n",
       "Leicester City                0\n",
       "Liverpool                     0\n",
       "Manchester City               0\n",
       "Manchester United             0\n",
       "Newcastle United              0\n",
       "Norwich City                  0\n",
       "Sheffield United              0\n",
       "Southampton                   0\n",
       "Stoke City                    0\n",
       "Swansea City                  0\n",
       "Tottenham Hotspur             0\n",
       "Watford                       0\n",
       "West Bromwich Albion          0\n",
       "West Ham United               0\n",
       "Wolverhampton Wanderers       0\n",
       "dtype: int64"
      ]
     },
     "execution_count": 7,
     "metadata": {},
     "output_type": "execute_result"
    }
   ],
   "source": [
    "train.isnull().sum()"
   ]
  },
  {
   "cell_type": "code",
   "execution_count": 8,
   "metadata": {},
   "outputs": [
    {
     "data": {
      "text/plain": [
       "(1306, 199)"
      ]
     },
     "execution_count": 8,
     "metadata": {},
     "output_type": "execute_result"
    }
   ],
   "source": [
    "train.shape"
   ]
  },
  {
   "cell_type": "code",
   "execution_count": null,
   "metadata": {},
   "outputs": [],
   "source": []
  },
  {
   "cell_type": "code",
   "execution_count": 9,
   "metadata": {},
   "outputs": [],
   "source": [
    "train_1 = train.drop(columns = ['attendance','stadium','h_gls','h_ast','h_pk','h_pkatt','h_sh','h_sot','h_yellow','h_red',\n",
    "                              'h_touches','h_press','h_tkl','h_int','h_blk','h_xg','h_npxg','h_xa','h_sca','h_gca','h_cmp','h_pass_att',\n",
    "                              'h_pass_prog','h_carries','h_carries_prog','h_dri_succ','h_dri_att','h_yellow2','h_fls','h_fld','h_off',\n",
    "                              'h_crs','h_tklw','h_pkwon','h_pkcon','h_og','h_recov','h_aer_won','h_aer_lost','h_last5match','a_last5match','a_gls',\n",
    "                              'a_ast','a_pk','a_pkatt','a_sh','a_sot','a_yellow', 'a_red', 'a_touches', 'a_press', 'a_tkl', 'a_int', 'a_blk',\n",
    "                            'a_xg','a_npxg','a_xa','a_sca','a_gca','a_cmp','a_pass_att','a_pass_prog','a_carries', 'a_carries_prog', 'a_dri_succ',\n",
    "                              'a_dri_att','a_yellow2','a_fls','a_fld','a_off','a_crs','a_tklw','a_pwon','a_pkcon','a_og','a_recov','a_aer_won','a_aer_lost',\n",
    "                                'total_goals','h_total_goals','a_total_goals','h_goalsscored','h_goalsconceded','a_total_goals','a_goalsconceded',\n",
    "                               'h_accumulatpts','a_accumulatpts','h_matchplayed','h_matchwon','h_matchlost','h_matchdrawn','a_matchplayed','a_matchwon',\n",
    "                                'a_matchlost','a_matchdrawn','a_goalsscored'])"
   ]
  },
  {
   "cell_type": "code",
   "execution_count": 10,
   "metadata": {
    "scrolled": false
   },
   "outputs": [
    {
     "data": {
      "text/plain": [
       "Text(0.5, 1.0, 'Result VS Features')"
      ]
     },
     "execution_count": 10,
     "metadata": {},
     "output_type": "execute_result"
    },
    {
     "data": {
      "image/png": "[encoded data removed]",
      "text/plain": [
       "<Figure size 1080x3600 with 2 Axes>"
      ]
     },
     "metadata": {
      "needs_background": "light"
     },
     "output_type": "display_data"
    }
   ],
   "source": [
    "plt.figure(figsize=(15,50))\n",
    "sns.heatmap(train_1.corr()[['result']].sort_values('result'), annot=True,center =0)\n",
    "plt.title('Result VS Features')"
   ]
  },
  {
   "cell_type": "code",
   "execution_count": 11,
   "metadata": {
    "scrolled": true
   },
   "outputs": [],
   "source": [
    "train_corrs = train_1.corrwith(train['result'])\n",
    "train_corrs_index = train_corrs[(train_corrs < 0.2) & (train_corrs > -0.2)].index"
   ]
  },
  {
   "cell_type": "code",
   "execution_count": 12,
   "metadata": {},
   "outputs": [
    {
     "data": {
      "text/plain": [
       "Index(['h_last_5_avrg_ast', 'h_last_5_avrg_pk', 'h_last_5_avrg_pkatt',\n",
       "       'h_last_5_avrg_yellow', 'h_last_5_avrg_red', 'h_last_5_avrg_press',\n",
       "       'h_last_5_avrg_tkl', 'h_last_5_avrg_int', 'h_last_5_avrg_blk',\n",
       "       'h_last_5_avrg_dri_succ', 'h_last_5_avrg_dri_att',\n",
       "       'h_last_5_avrg_yellow2', 'h_last_5_avrg_fls', 'h_last_5_avrg_fld',\n",
       "       'h_last_5_avrg_off', 'h_last_5_avrg_crs', 'h_last_5_avrg_tklw',\n",
       "       'h_last_5_avrg_pkwon', 'h_last_5_avrg_pkcon', 'h_last_5_avrg_og',\n",
       "       'h_last_5_avrg_recov', 'h_last_5_avrg_aer_won',\n",
       "       'h_last_5_avrg_aer_lost', 'a_last_5_avrg_ast', 'a_last_5_avrg_pk',\n",
       "       'a_last_5_avrg_pkatt', 'a_last_5_avrg_yellow', 'a_last_5_avrg_red',\n",
       "       'a_last_5_avrg_press', 'a_last_5_avrg_tkl', 'a_last_5_avrg_int',\n",
       "       'a_last_5_avrg_blk', 'a_last_5_avrg_dri_succ', 'a_last_5_avrg_dri_att',\n",
       "       'a_last_5_avrg_yellow2', 'a_last_5_avrg_fls', 'a_last_5_avrg_fld',\n",
       "       'a_last_5_avrg_off', 'a_last_5_avrg_crs', 'a_last_5_avrg_tklw',\n",
       "       'a_last_5_avrg_pkwon', 'a_last_5_avrg_pkcon', 'a_last_5_avrg_og',\n",
       "       'a_last_5_avrg_recov', 'a_last_5_avrg_aer_won',\n",
       "       'a_last_5_avrg_aer_lost', 'Arsenal', 'Aston Villa', 'Bournemouth',\n",
       "       'Brighton & Hove Albion', 'Burnley', 'Cardiff City', 'Chelsea',\n",
       "       'Crystal Palace', 'Everton', 'Fulham', 'Huddersfield Town',\n",
       "       'Leeds United', 'Leicester City', 'Liverpool', 'Manchester City',\n",
       "       'Manchester United', 'Newcastle United', 'Norwich City',\n",
       "       'Sheffield United', 'Southampton', 'Stoke City', 'Swansea City',\n",
       "       'Tottenham Hotspur', 'Watford', 'West Bromwich Albion',\n",
       "       'West Ham United', 'Wolverhampton Wanderers'],\n",
       "      dtype='object')"
      ]
     },
     "execution_count": 12,
     "metadata": {},
     "output_type": "execute_result"
    }
   ],
   "source": [
    "train_corrs_index"
   ]
  },
  {
   "cell_type": "code",
   "execution_count": 13,
   "metadata": {},
   "outputs": [],
   "source": [
    "train_1 = train_1.drop(columns = train_corrs_index)"
   ]
  },
  {
   "cell_type": "code",
   "execution_count": 14,
   "metadata": {
    "scrolled": true
   },
   "outputs": [
    {
     "data": {
      "text/plain": [
       "(1306, 31)"
      ]
     },
     "execution_count": 14,
     "metadata": {},
     "output_type": "execute_result"
    }
   ],
   "source": [
    "train_1.shape"
   ]
  },
  {
   "cell_type": "code",
   "execution_count": 15,
   "metadata": {},
   "outputs": [],
   "source": [
    "test_matches = train_1.tail(2)"
   ]
  },
  {
   "cell_type": "code",
   "execution_count": 16,
   "metadata": {},
   "outputs": [
    {
     "data": {
      "text/html": [
       "<div>\n",
       "<style scoped>\n",
       "    .dataframe tbody tr th:only-of-type {\n",
       "        vertical-align: middle;\n",
       "    }\n",
       "\n",
       "    .dataframe tbody tr th {\n",
       "        vertical-align: top;\n",
       "    }\n",
       "\n",
       "    .dataframe thead th {\n",
       "        text-align: right;\n",
       "    }\n",
       "</style>\n",
       "<table border=\"1\" class=\"dataframe\">\n",
       "  <thead>\n",
       "    <tr style=\"text-align: right;\">\n",
       "      <th></th>\n",
       "      <th>date</th>\n",
       "      <th>match</th>\n",
       "      <th>h_last_5_avrg_gls</th>\n",
       "      <th>h_last_5_avrg_sh</th>\n",
       "      <th>h_last_5_avrg_sot</th>\n",
       "      <th>h_last_5_touches</th>\n",
       "      <th>h_last_5_avrg_xg</th>\n",
       "      <th>h_last_5_avrg_npxg</th>\n",
       "      <th>h_last_5_avrg_xa</th>\n",
       "      <th>h_last_5_avrg_sca</th>\n",
       "      <th>h_last_5_avrg_gca</th>\n",
       "      <th>h_last_5_avrg_cmp</th>\n",
       "      <th>h_last_5_avrg_pass_att</th>\n",
       "      <th>h_last_5_avrg_pass_prog</th>\n",
       "      <th>h_last_5_avrg_carries</th>\n",
       "      <th>h_last_5_avrg_carries_prog</th>\n",
       "      <th>a_last_5_avrg_gls</th>\n",
       "      <th>a_last_5_avrg_sh</th>\n",
       "      <th>a_last_5_avrg_sot</th>\n",
       "      <th>a_last_5_touches</th>\n",
       "      <th>a_last_5_avrg_xg</th>\n",
       "      <th>a_last_5_avrg_npxg</th>\n",
       "      <th>a_last_5_avrg_xa</th>\n",
       "      <th>a_last_5_avrg_sca</th>\n",
       "      <th>a_last_5_avrg_gca</th>\n",
       "      <th>a_last_5_avrg_cmp</th>\n",
       "      <th>a_last_5_avrg_pass_att</th>\n",
       "      <th>a_last_5_avrg_pass_prog</th>\n",
       "      <th>a_last_5_avrg_carries</th>\n",
       "      <th>a_last_5_avrg_carries_prog</th>\n",
       "      <th>result</th>\n",
       "    </tr>\n",
       "  </thead>\n",
       "  <tbody>\n",
       "    <tr>\n",
       "      <th>1321</th>\n",
       "      <td>2021-01-20</td>\n",
       "      <td>Manchester_City_vs_Aston_Villa</td>\n",
       "      <td>2.2</td>\n",
       "      <td>13.6</td>\n",
       "      <td>5.8</td>\n",
       "      <td>819.8</td>\n",
       "      <td>1.8</td>\n",
       "      <td>1.64</td>\n",
       "      <td>1.34</td>\n",
       "      <td>22.2</td>\n",
       "      <td>3.2</td>\n",
       "      <td>632.6</td>\n",
       "      <td>718.8</td>\n",
       "      <td>41.2</td>\n",
       "      <td>569.6</td>\n",
       "      <td>72.0</td>\n",
       "      <td>1.6</td>\n",
       "      <td>18.4</td>\n",
       "      <td>6.4</td>\n",
       "      <td>552.2</td>\n",
       "      <td>2.06</td>\n",
       "      <td>1.90</td>\n",
       "      <td>1.20</td>\n",
       "      <td>32.2</td>\n",
       "      <td>2.8</td>\n",
       "      <td>333.6</td>\n",
       "      <td>436.0</td>\n",
       "      <td>37.2</td>\n",
       "      <td>320.2</td>\n",
       "      <td>45.2</td>\n",
       "      <td>1</td>\n",
       "    </tr>\n",
       "    <tr>\n",
       "      <th>1322</th>\n",
       "      <td>2021-01-20</td>\n",
       "      <td>Fulham_vs_Manchester_United</td>\n",
       "      <td>0.2</td>\n",
       "      <td>11.4</td>\n",
       "      <td>2.8</td>\n",
       "      <td>577.6</td>\n",
       "      <td>0.9</td>\n",
       "      <td>0.90</td>\n",
       "      <td>0.68</td>\n",
       "      <td>18.4</td>\n",
       "      <td>0.8</td>\n",
       "      <td>341.4</td>\n",
       "      <td>451.2</td>\n",
       "      <td>29.8</td>\n",
       "      <td>357.4</td>\n",
       "      <td>33.8</td>\n",
       "      <td>1.2</td>\n",
       "      <td>11.8</td>\n",
       "      <td>5.2</td>\n",
       "      <td>622.0</td>\n",
       "      <td>1.54</td>\n",
       "      <td>1.38</td>\n",
       "      <td>1.06</td>\n",
       "      <td>20.8</td>\n",
       "      <td>2.4</td>\n",
       "      <td>405.4</td>\n",
       "      <td>497.0</td>\n",
       "      <td>41.4</td>\n",
       "      <td>391.4</td>\n",
       "      <td>51.8</td>\n",
       "      <td>1</td>\n",
       "    </tr>\n",
       "  </tbody>\n",
       "</table>\n",
       "</div>"
      ],
      "text/plain": [
       "            date                           match  h_last_5_avrg_gls  \\\n",
       "1321  2021-01-20  Manchester_City_vs_Aston_Villa                2.2   \n",
       "1322  2021-01-20     Fulham_vs_Manchester_United                0.2   \n",
       "\n",
       "      h_last_5_avrg_sh  h_last_5_avrg_sot  h_last_5_touches  h_last_5_avrg_xg  \\\n",
       "1321              13.6                5.8             819.8               1.8   \n",
       "1322              11.4                2.8             577.6               0.9   \n",
       "\n",
       "      h_last_5_avrg_npxg  h_last_5_avrg_xa  h_last_5_avrg_sca  \\\n",
       "1321                1.64              1.34               22.2   \n",
       "1322                0.90              0.68               18.4   \n",
       "\n",
       "      h_last_5_avrg_gca  h_last_5_avrg_cmp  h_last_5_avrg_pass_att  \\\n",
       "1321                3.2              632.6                   718.8   \n",
       "1322                0.8              341.4                   451.2   \n",
       "\n",
       "      h_last_5_avrg_pass_prog  h_last_5_avrg_carries  \\\n",
       "1321                     41.2                  569.6   \n",
       "1322                     29.8                  357.4   \n",
       "\n",
       "      h_last_5_avrg_carries_prog  a_last_5_avrg_gls  a_last_5_avrg_sh  \\\n",
       "1321                        72.0                1.6              18.4   \n",
       "1322                        33.8                1.2              11.8   \n",
       "\n",
       "      a_last_5_avrg_sot  a_last_5_touches  a_last_5_avrg_xg  \\\n",
       "1321                6.4             552.2              2.06   \n",
       "1322                5.2             622.0              1.54   \n",
       "\n",
       "      a_last_5_avrg_npxg  a_last_5_avrg_xa  a_last_5_avrg_sca  \\\n",
       "1321                1.90              1.20               32.2   \n",
       "1322                1.38              1.06               20.8   \n",
       "\n",
       "      a_last_5_avrg_gca  a_last_5_avrg_cmp  a_last_5_avrg_pass_att  \\\n",
       "1321                2.8              333.6                   436.0   \n",
       "1322                2.4              405.4                   497.0   \n",
       "\n",
       "      a_last_5_avrg_pass_prog  a_last_5_avrg_carries  \\\n",
       "1321                     37.2                  320.2   \n",
       "1322                     41.4                  391.4   \n",
       "\n",
       "      a_last_5_avrg_carries_prog  result  \n",
       "1321                        45.2       1  \n",
       "1322                        51.8       1  "
      ]
     },
     "execution_count": 16,
     "metadata": {},
     "output_type": "execute_result"
    }
   ],
   "source": [
    "test_matches"
   ]
  },
  {
   "cell_type": "code",
   "execution_count": 17,
   "metadata": {
    "scrolled": true
   },
   "outputs": [],
   "source": [
    "train_1 = train_1.drop(index=[1321,1322])"
   ]
  },
  {
   "cell_type": "code",
   "execution_count": 18,
   "metadata": {},
   "outputs": [],
   "source": [
    "train_2 = train_1.drop(columns = ['result'])"
   ]
  },
  {
   "cell_type": "code",
   "execution_count": 19,
   "metadata": {},
   "outputs": [
    {
     "data": {
      "text/html": [
       "<div>\n",
       "<style scoped>\n",
       "    .dataframe tbody tr th:only-of-type {\n",
       "        vertical-align: middle;\n",
       "    }\n",
       "\n",
       "    .dataframe tbody tr th {\n",
       "        vertical-align: top;\n",
       "    }\n",
       "\n",
       "    .dataframe thead th {\n",
       "        text-align: right;\n",
       "    }\n",
       "</style>\n",
       "<table border=\"1\" class=\"dataframe\">\n",
       "  <thead>\n",
       "    <tr style=\"text-align: right;\">\n",
       "      <th></th>\n",
       "      <th>date</th>\n",
       "      <th>match</th>\n",
       "      <th>h_last_5_avrg_gls</th>\n",
       "      <th>h_last_5_avrg_sh</th>\n",
       "      <th>h_last_5_avrg_sot</th>\n",
       "      <th>h_last_5_touches</th>\n",
       "      <th>h_last_5_avrg_xg</th>\n",
       "      <th>h_last_5_avrg_npxg</th>\n",
       "      <th>h_last_5_avrg_xa</th>\n",
       "      <th>h_last_5_avrg_sca</th>\n",
       "      <th>h_last_5_avrg_gca</th>\n",
       "      <th>h_last_5_avrg_cmp</th>\n",
       "      <th>h_last_5_avrg_pass_att</th>\n",
       "      <th>h_last_5_avrg_pass_prog</th>\n",
       "      <th>h_last_5_avrg_carries</th>\n",
       "      <th>h_last_5_avrg_carries_prog</th>\n",
       "      <th>a_last_5_avrg_gls</th>\n",
       "      <th>a_last_5_avrg_sh</th>\n",
       "      <th>a_last_5_avrg_sot</th>\n",
       "      <th>a_last_5_touches</th>\n",
       "      <th>a_last_5_avrg_xg</th>\n",
       "      <th>a_last_5_avrg_npxg</th>\n",
       "      <th>a_last_5_avrg_xa</th>\n",
       "      <th>a_last_5_avrg_sca</th>\n",
       "      <th>a_last_5_avrg_gca</th>\n",
       "      <th>a_last_5_avrg_cmp</th>\n",
       "      <th>a_last_5_avrg_pass_att</th>\n",
       "      <th>a_last_5_avrg_pass_prog</th>\n",
       "      <th>a_last_5_avrg_carries</th>\n",
       "      <th>a_last_5_avrg_carries_prog</th>\n",
       "      <th>result</th>\n",
       "    </tr>\n",
       "  </thead>\n",
       "  <tbody>\n",
       "    <tr>\n",
       "      <th>10</th>\n",
       "      <td>2017-08-19</td>\n",
       "      <td>Southampton_vs_West_Ham_United</td>\n",
       "      <td>0.0</td>\n",
       "      <td>30.0</td>\n",
       "      <td>3.0</td>\n",
       "      <td>645.0</td>\n",
       "      <td>2.0</td>\n",
       "      <td>2.0</td>\n",
       "      <td>1.5</td>\n",
       "      <td>47.0</td>\n",
       "      <td>0.0</td>\n",
       "      <td>437.0</td>\n",
       "      <td>549.0</td>\n",
       "      <td>41.0</td>\n",
       "      <td>439.0</td>\n",
       "      <td>60.0</td>\n",
       "      <td>0.0</td>\n",
       "      <td>10.0</td>\n",
       "      <td>1.0</td>\n",
       "      <td>544.0</td>\n",
       "      <td>0.6</td>\n",
       "      <td>0.6</td>\n",
       "      <td>0.5</td>\n",
       "      <td>16.0</td>\n",
       "      <td>0.0</td>\n",
       "      <td>327.0</td>\n",
       "      <td>425.0</td>\n",
       "      <td>38.0</td>\n",
       "      <td>339.0</td>\n",
       "      <td>20.0</td>\n",
       "      <td>0</td>\n",
       "    </tr>\n",
       "    <tr>\n",
       "      <th>11</th>\n",
       "      <td>2017-08-19</td>\n",
       "      <td>Swansea_City_vs_Manchester_United</td>\n",
       "      <td>0.0</td>\n",
       "      <td>4.0</td>\n",
       "      <td>0.0</td>\n",
       "      <td>490.0</td>\n",
       "      <td>0.4</td>\n",
       "      <td>0.4</td>\n",
       "      <td>0.3</td>\n",
       "      <td>7.0</td>\n",
       "      <td>0.0</td>\n",
       "      <td>292.0</td>\n",
       "      <td>383.0</td>\n",
       "      <td>21.0</td>\n",
       "      <td>304.0</td>\n",
       "      <td>17.0</td>\n",
       "      <td>4.0</td>\n",
       "      <td>22.0</td>\n",
       "      <td>5.0</td>\n",
       "      <td>636.0</td>\n",
       "      <td>2.0</td>\n",
       "      <td>2.0</td>\n",
       "      <td>2.1</td>\n",
       "      <td>32.0</td>\n",
       "      <td>7.0</td>\n",
       "      <td>429.0</td>\n",
       "      <td>524.0</td>\n",
       "      <td>44.0</td>\n",
       "      <td>409.0</td>\n",
       "      <td>52.0</td>\n",
       "      <td>2</td>\n",
       "    </tr>\n",
       "    <tr>\n",
       "      <th>12</th>\n",
       "      <td>2017-08-19</td>\n",
       "      <td>Stoke_City_vs_Arsenal</td>\n",
       "      <td>0.0</td>\n",
       "      <td>10.0</td>\n",
       "      <td>1.0</td>\n",
       "      <td>478.0</td>\n",
       "      <td>0.1</td>\n",
       "      <td>0.1</td>\n",
       "      <td>0.1</td>\n",
       "      <td>15.0</td>\n",
       "      <td>0.0</td>\n",
       "      <td>229.0</td>\n",
       "      <td>361.0</td>\n",
       "      <td>33.0</td>\n",
       "      <td>269.0</td>\n",
       "      <td>36.0</td>\n",
       "      <td>4.0</td>\n",
       "      <td>28.0</td>\n",
       "      <td>10.0</td>\n",
       "      <td>782.0</td>\n",
       "      <td>2.2</td>\n",
       "      <td>2.2</td>\n",
       "      <td>2.2</td>\n",
       "      <td>51.0</td>\n",
       "      <td>7.0</td>\n",
       "      <td>546.0</td>\n",
       "      <td>659.0</td>\n",
       "      <td>50.0</td>\n",
       "      <td>593.0</td>\n",
       "      <td>90.0</td>\n",
       "      <td>0</td>\n",
       "    </tr>\n",
       "    <tr>\n",
       "      <th>13</th>\n",
       "      <td>2017-08-19</td>\n",
       "      <td>Burnley_vs_West_Bromwich_Albion</td>\n",
       "      <td>3.0</td>\n",
       "      <td>10.0</td>\n",
       "      <td>5.0</td>\n",
       "      <td>447.0</td>\n",
       "      <td>0.8</td>\n",
       "      <td>0.8</td>\n",
       "      <td>0.6</td>\n",
       "      <td>16.0</td>\n",
       "      <td>6.0</td>\n",
       "      <td>248.0</td>\n",
       "      <td>344.0</td>\n",
       "      <td>23.0</td>\n",
       "      <td>235.0</td>\n",
       "      <td>23.0</td>\n",
       "      <td>1.0</td>\n",
       "      <td>17.0</td>\n",
       "      <td>6.0</td>\n",
       "      <td>399.0</td>\n",
       "      <td>1.1</td>\n",
       "      <td>1.1</td>\n",
       "      <td>0.9</td>\n",
       "      <td>25.0</td>\n",
       "      <td>2.0</td>\n",
       "      <td>188.0</td>\n",
       "      <td>294.0</td>\n",
       "      <td>14.0</td>\n",
       "      <td>218.0</td>\n",
       "      <td>21.0</td>\n",
       "      <td>2</td>\n",
       "    </tr>\n",
       "    <tr>\n",
       "      <th>14</th>\n",
       "      <td>2017-08-19</td>\n",
       "      <td>Bournemouth_vs_Watford</td>\n",
       "      <td>0.0</td>\n",
       "      <td>9.0</td>\n",
       "      <td>2.0</td>\n",
       "      <td>739.0</td>\n",
       "      <td>0.4</td>\n",
       "      <td>0.4</td>\n",
       "      <td>0.3</td>\n",
       "      <td>14.0</td>\n",
       "      <td>0.0</td>\n",
       "      <td>530.0</td>\n",
       "      <td>642.0</td>\n",
       "      <td>41.0</td>\n",
       "      <td>589.0</td>\n",
       "      <td>55.0</td>\n",
       "      <td>3.0</td>\n",
       "      <td>9.0</td>\n",
       "      <td>5.0</td>\n",
       "      <td>563.0</td>\n",
       "      <td>1.9</td>\n",
       "      <td>1.9</td>\n",
       "      <td>0.3</td>\n",
       "      <td>11.0</td>\n",
       "      <td>3.0</td>\n",
       "      <td>301.0</td>\n",
       "      <td>450.0</td>\n",
       "      <td>24.0</td>\n",
       "      <td>337.0</td>\n",
       "      <td>20.0</td>\n",
       "      <td>2</td>\n",
       "    </tr>\n",
       "  </tbody>\n",
       "</table>\n",
       "</div>"
      ],
      "text/plain": [
       "          date                              match  h_last_5_avrg_gls  \\\n",
       "10  2017-08-19     Southampton_vs_West_Ham_United                0.0   \n",
       "11  2017-08-19  Swansea_City_vs_Manchester_United                0.0   \n",
       "12  2017-08-19              Stoke_City_vs_Arsenal                0.0   \n",
       "13  2017-08-19    Burnley_vs_West_Bromwich_Albion                3.0   \n",
       "14  2017-08-19             Bournemouth_vs_Watford                0.0   \n",
       "\n",
       "    h_last_5_avrg_sh  h_last_5_avrg_sot  h_last_5_touches  h_last_5_avrg_xg  \\\n",
       "10              30.0                3.0             645.0               2.0   \n",
       "11               4.0                0.0             490.0               0.4   \n",
       "12              10.0                1.0             478.0               0.1   \n",
       "13              10.0                5.0             447.0               0.8   \n",
       "14               9.0                2.0             739.0               0.4   \n",
       "\n",
       "    h_last_5_avrg_npxg  h_last_5_avrg_xa  h_last_5_avrg_sca  \\\n",
       "10                 2.0               1.5               47.0   \n",
       "11                 0.4               0.3                7.0   \n",
       "12                 0.1               0.1               15.0   \n",
       "13                 0.8               0.6               16.0   \n",
       "14                 0.4               0.3               14.0   \n",
       "\n",
       "    h_last_5_avrg_gca  h_last_5_avrg_cmp  h_last_5_avrg_pass_att  \\\n",
       "10                0.0              437.0                   549.0   \n",
       "11                0.0              292.0                   383.0   \n",
       "12                0.0              229.0                   361.0   \n",
       "13                6.0              248.0                   344.0   \n",
       "14                0.0              530.0                   642.0   \n",
       "\n",
       "    h_last_5_avrg_pass_prog  h_last_5_avrg_carries  \\\n",
       "10                     41.0                  439.0   \n",
       "11                     21.0                  304.0   \n",
       "12                     33.0                  269.0   \n",
       "13                     23.0                  235.0   \n",
       "14                     41.0                  589.0   \n",
       "\n",
       "    h_last_5_avrg_carries_prog  a_last_5_avrg_gls  a_last_5_avrg_sh  \\\n",
       "10                        60.0                0.0              10.0   \n",
       "11                        17.0                4.0              22.0   \n",
       "12                        36.0                4.0              28.0   \n",
       "13                        23.0                1.0              17.0   \n",
       "14                        55.0                3.0               9.0   \n",
       "\n",
       "    a_last_5_avrg_sot  a_last_5_touches  a_last_5_avrg_xg  a_last_5_avrg_npxg  \\\n",
       "10                1.0             544.0               0.6                 0.6   \n",
       "11                5.0             636.0               2.0                 2.0   \n",
       "12               10.0             782.0               2.2                 2.2   \n",
       "13                6.0             399.0               1.1                 1.1   \n",
       "14                5.0             563.0               1.9                 1.9   \n",
       "\n",
       "    a_last_5_avrg_xa  a_last_5_avrg_sca  a_last_5_avrg_gca  a_last_5_avrg_cmp  \\\n",
       "10               0.5               16.0                0.0              327.0   \n",
       "11               2.1               32.0                7.0              429.0   \n",
       "12               2.2               51.0                7.0              546.0   \n",
       "13               0.9               25.0                2.0              188.0   \n",
       "14               0.3               11.0                3.0              301.0   \n",
       "\n",
       "    a_last_5_avrg_pass_att  a_last_5_avrg_pass_prog  a_last_5_avrg_carries  \\\n",
       "10                   425.0                     38.0                  339.0   \n",
       "11                   524.0                     44.0                  409.0   \n",
       "12                   659.0                     50.0                  593.0   \n",
       "13                   294.0                     14.0                  218.0   \n",
       "14                   450.0                     24.0                  337.0   \n",
       "\n",
       "    a_last_5_avrg_carries_prog  result  \n",
       "10                        20.0       0  \n",
       "11                        52.0       2  \n",
       "12                        90.0       0  \n",
       "13                        21.0       2  \n",
       "14                        20.0       2  "
      ]
     },
     "execution_count": 19,
     "metadata": {},
     "output_type": "execute_result"
    }
   ],
   "source": [
    "train_1.head()"
   ]
  },
  {
   "cell_type": "markdown",
   "metadata": {},
   "source": [
    "## Train Test Split"
   ]
  },
  {
   "cell_type": "code",
   "execution_count": null,
   "metadata": {},
   "outputs": [],
   "source": []
  },
  {
   "cell_type": "code",
   "execution_count": 20,
   "metadata": {},
   "outputs": [],
   "source": [
    "X = train_1[train_2.columns]\n",
    "y = train_1['result']"
   ]
  },
  {
   "cell_type": "code",
   "execution_count": 21,
   "metadata": {},
   "outputs": [
    {
     "data": {
      "text/plain": [
       "(1304, 30)"
      ]
     },
     "execution_count": 21,
     "metadata": {},
     "output_type": "execute_result"
    }
   ],
   "source": [
    "X.shape"
   ]
  },
  {
   "cell_type": "code",
   "execution_count": 22,
   "metadata": {},
   "outputs": [],
   "source": [
    "#normalizing = MinMaxScaler()\n",
    "#X = normalizing.fit_transform(X)\n",
    "#X = pd.DataFrame(X)"
   ]
  },
  {
   "cell_type": "code",
   "execution_count": 23,
   "metadata": {},
   "outputs": [],
   "source": [
    "X_train_full, X_test_full, y_train, y_test = train_test_split(X, y, test_size=0.1,shuffle=False)"
   ]
  },
  {
   "cell_type": "code",
   "execution_count": 24,
   "metadata": {},
   "outputs": [
    {
     "data": {
      "text/html": [
       "<div>\n",
       "<style scoped>\n",
       "    .dataframe tbody tr th:only-of-type {\n",
       "        vertical-align: middle;\n",
       "    }\n",
       "\n",
       "    .dataframe tbody tr th {\n",
       "        vertical-align: top;\n",
       "    }\n",
       "\n",
       "    .dataframe thead th {\n",
       "        text-align: right;\n",
       "    }\n",
       "</style>\n",
       "<table border=\"1\" class=\"dataframe\">\n",
       "  <thead>\n",
       "    <tr style=\"text-align: right;\">\n",
       "      <th></th>\n",
       "      <th>date</th>\n",
       "      <th>match</th>\n",
       "      <th>h_last_5_avrg_gls</th>\n",
       "      <th>h_last_5_avrg_sh</th>\n",
       "      <th>h_last_5_avrg_sot</th>\n",
       "      <th>h_last_5_touches</th>\n",
       "      <th>h_last_5_avrg_xg</th>\n",
       "      <th>h_last_5_avrg_npxg</th>\n",
       "      <th>h_last_5_avrg_xa</th>\n",
       "      <th>h_last_5_avrg_sca</th>\n",
       "      <th>h_last_5_avrg_gca</th>\n",
       "      <th>h_last_5_avrg_cmp</th>\n",
       "      <th>h_last_5_avrg_pass_att</th>\n",
       "      <th>h_last_5_avrg_pass_prog</th>\n",
       "      <th>h_last_5_avrg_carries</th>\n",
       "      <th>h_last_5_avrg_carries_prog</th>\n",
       "      <th>a_last_5_avrg_gls</th>\n",
       "      <th>a_last_5_avrg_sh</th>\n",
       "      <th>a_last_5_avrg_sot</th>\n",
       "      <th>a_last_5_touches</th>\n",
       "      <th>a_last_5_avrg_xg</th>\n",
       "      <th>a_last_5_avrg_npxg</th>\n",
       "      <th>a_last_5_avrg_xa</th>\n",
       "      <th>a_last_5_avrg_sca</th>\n",
       "      <th>a_last_5_avrg_gca</th>\n",
       "      <th>a_last_5_avrg_cmp</th>\n",
       "      <th>a_last_5_avrg_pass_att</th>\n",
       "      <th>a_last_5_avrg_pass_prog</th>\n",
       "      <th>a_last_5_avrg_carries</th>\n",
       "      <th>a_last_5_avrg_carries_prog</th>\n",
       "    </tr>\n",
       "  </thead>\n",
       "  <tbody>\n",
       "    <tr>\n",
       "      <th>10</th>\n",
       "      <td>2017-08-19</td>\n",
       "      <td>Southampton_vs_West_Ham_United</td>\n",
       "      <td>0.0</td>\n",
       "      <td>30.0</td>\n",
       "      <td>3.0</td>\n",
       "      <td>645.0</td>\n",
       "      <td>2.0</td>\n",
       "      <td>2.0</td>\n",
       "      <td>1.5</td>\n",
       "      <td>47.0</td>\n",
       "      <td>0.0</td>\n",
       "      <td>437.0</td>\n",
       "      <td>549.0</td>\n",
       "      <td>41.0</td>\n",
       "      <td>439.0</td>\n",
       "      <td>60.0</td>\n",
       "      <td>0.0</td>\n",
       "      <td>10.0</td>\n",
       "      <td>1.0</td>\n",
       "      <td>544.0</td>\n",
       "      <td>0.6</td>\n",
       "      <td>0.6</td>\n",
       "      <td>0.5</td>\n",
       "      <td>16.0</td>\n",
       "      <td>0.0</td>\n",
       "      <td>327.0</td>\n",
       "      <td>425.0</td>\n",
       "      <td>38.0</td>\n",
       "      <td>339.0</td>\n",
       "      <td>20.0</td>\n",
       "    </tr>\n",
       "    <tr>\n",
       "      <th>11</th>\n",
       "      <td>2017-08-19</td>\n",
       "      <td>Swansea_City_vs_Manchester_United</td>\n",
       "      <td>0.0</td>\n",
       "      <td>4.0</td>\n",
       "      <td>0.0</td>\n",
       "      <td>490.0</td>\n",
       "      <td>0.4</td>\n",
       "      <td>0.4</td>\n",
       "      <td>0.3</td>\n",
       "      <td>7.0</td>\n",
       "      <td>0.0</td>\n",
       "      <td>292.0</td>\n",
       "      <td>383.0</td>\n",
       "      <td>21.0</td>\n",
       "      <td>304.0</td>\n",
       "      <td>17.0</td>\n",
       "      <td>4.0</td>\n",
       "      <td>22.0</td>\n",
       "      <td>5.0</td>\n",
       "      <td>636.0</td>\n",
       "      <td>2.0</td>\n",
       "      <td>2.0</td>\n",
       "      <td>2.1</td>\n",
       "      <td>32.0</td>\n",
       "      <td>7.0</td>\n",
       "      <td>429.0</td>\n",
       "      <td>524.0</td>\n",
       "      <td>44.0</td>\n",
       "      <td>409.0</td>\n",
       "      <td>52.0</td>\n",
       "    </tr>\n",
       "    <tr>\n",
       "      <th>12</th>\n",
       "      <td>2017-08-19</td>\n",
       "      <td>Stoke_City_vs_Arsenal</td>\n",
       "      <td>0.0</td>\n",
       "      <td>10.0</td>\n",
       "      <td>1.0</td>\n",
       "      <td>478.0</td>\n",
       "      <td>0.1</td>\n",
       "      <td>0.1</td>\n",
       "      <td>0.1</td>\n",
       "      <td>15.0</td>\n",
       "      <td>0.0</td>\n",
       "      <td>229.0</td>\n",
       "      <td>361.0</td>\n",
       "      <td>33.0</td>\n",
       "      <td>269.0</td>\n",
       "      <td>36.0</td>\n",
       "      <td>4.0</td>\n",
       "      <td>28.0</td>\n",
       "      <td>10.0</td>\n",
       "      <td>782.0</td>\n",
       "      <td>2.2</td>\n",
       "      <td>2.2</td>\n",
       "      <td>2.2</td>\n",
       "      <td>51.0</td>\n",
       "      <td>7.0</td>\n",
       "      <td>546.0</td>\n",
       "      <td>659.0</td>\n",
       "      <td>50.0</td>\n",
       "      <td>593.0</td>\n",
       "      <td>90.0</td>\n",
       "    </tr>\n",
       "    <tr>\n",
       "      <th>13</th>\n",
       "      <td>2017-08-19</td>\n",
       "      <td>Burnley_vs_West_Bromwich_Albion</td>\n",
       "      <td>3.0</td>\n",
       "      <td>10.0</td>\n",
       "      <td>5.0</td>\n",
       "      <td>447.0</td>\n",
       "      <td>0.8</td>\n",
       "      <td>0.8</td>\n",
       "      <td>0.6</td>\n",
       "      <td>16.0</td>\n",
       "      <td>6.0</td>\n",
       "      <td>248.0</td>\n",
       "      <td>344.0</td>\n",
       "      <td>23.0</td>\n",
       "      <td>235.0</td>\n",
       "      <td>23.0</td>\n",
       "      <td>1.0</td>\n",
       "      <td>17.0</td>\n",
       "      <td>6.0</td>\n",
       "      <td>399.0</td>\n",
       "      <td>1.1</td>\n",
       "      <td>1.1</td>\n",
       "      <td>0.9</td>\n",
       "      <td>25.0</td>\n",
       "      <td>2.0</td>\n",
       "      <td>188.0</td>\n",
       "      <td>294.0</td>\n",
       "      <td>14.0</td>\n",
       "      <td>218.0</td>\n",
       "      <td>21.0</td>\n",
       "    </tr>\n",
       "    <tr>\n",
       "      <th>14</th>\n",
       "      <td>2017-08-19</td>\n",
       "      <td>Bournemouth_vs_Watford</td>\n",
       "      <td>0.0</td>\n",
       "      <td>9.0</td>\n",
       "      <td>2.0</td>\n",
       "      <td>739.0</td>\n",
       "      <td>0.4</td>\n",
       "      <td>0.4</td>\n",
       "      <td>0.3</td>\n",
       "      <td>14.0</td>\n",
       "      <td>0.0</td>\n",
       "      <td>530.0</td>\n",
       "      <td>642.0</td>\n",
       "      <td>41.0</td>\n",
       "      <td>589.0</td>\n",
       "      <td>55.0</td>\n",
       "      <td>3.0</td>\n",
       "      <td>9.0</td>\n",
       "      <td>5.0</td>\n",
       "      <td>563.0</td>\n",
       "      <td>1.9</td>\n",
       "      <td>1.9</td>\n",
       "      <td>0.3</td>\n",
       "      <td>11.0</td>\n",
       "      <td>3.0</td>\n",
       "      <td>301.0</td>\n",
       "      <td>450.0</td>\n",
       "      <td>24.0</td>\n",
       "      <td>337.0</td>\n",
       "      <td>20.0</td>\n",
       "    </tr>\n",
       "  </tbody>\n",
       "</table>\n",
       "</div>"
      ],
      "text/plain": [
       "          date                              match  h_last_5_avrg_gls  \\\n",
       "10  2017-08-19     Southampton_vs_West_Ham_United                0.0   \n",
       "11  2017-08-19  Swansea_City_vs_Manchester_United                0.0   \n",
       "12  2017-08-19              Stoke_City_vs_Arsenal                0.0   \n",
       "13  2017-08-19    Burnley_vs_West_Bromwich_Albion                3.0   \n",
       "14  2017-08-19             Bournemouth_vs_Watford                0.0   \n",
       "\n",
       "    h_last_5_avrg_sh  h_last_5_avrg_sot  h_last_5_touches  h_last_5_avrg_xg  \\\n",
       "10              30.0                3.0             645.0               2.0   \n",
       "11               4.0                0.0             490.0               0.4   \n",
       "12              10.0                1.0             478.0               0.1   \n",
       "13              10.0                5.0             447.0               0.8   \n",
       "14               9.0                2.0             739.0               0.4   \n",
       "\n",
       "    h_last_5_avrg_npxg  h_last_5_avrg_xa  h_last_5_avrg_sca  \\\n",
       "10                 2.0               1.5               47.0   \n",
       "11                 0.4               0.3                7.0   \n",
       "12                 0.1               0.1               15.0   \n",
       "13                 0.8               0.6               16.0   \n",
       "14                 0.4               0.3               14.0   \n",
       "\n",
       "    h_last_5_avrg_gca  h_last_5_avrg_cmp  h_last_5_avrg_pass_att  \\\n",
       "10                0.0              437.0                   549.0   \n",
       "11                0.0              292.0                   383.0   \n",
       "12                0.0              229.0                   361.0   \n",
       "13                6.0              248.0                   344.0   \n",
       "14                0.0              530.0                   642.0   \n",
       "\n",
       "    h_last_5_avrg_pass_prog  h_last_5_avrg_carries  \\\n",
       "10                     41.0                  439.0   \n",
       "11                     21.0                  304.0   \n",
       "12                     33.0                  269.0   \n",
       "13                     23.0                  235.0   \n",
       "14                     41.0                  589.0   \n",
       "\n",
       "    h_last_5_avrg_carries_prog  a_last_5_avrg_gls  a_last_5_avrg_sh  \\\n",
       "10                        60.0                0.0              10.0   \n",
       "11                        17.0                4.0              22.0   \n",
       "12                        36.0                4.0              28.0   \n",
       "13                        23.0                1.0              17.0   \n",
       "14                        55.0                3.0               9.0   \n",
       "\n",
       "    a_last_5_avrg_sot  a_last_5_touches  a_last_5_avrg_xg  a_last_5_avrg_npxg  \\\n",
       "10                1.0             544.0               0.6                 0.6   \n",
       "11                5.0             636.0               2.0                 2.0   \n",
       "12               10.0             782.0               2.2                 2.2   \n",
       "13                6.0             399.0               1.1                 1.1   \n",
       "14                5.0             563.0               1.9                 1.9   \n",
       "\n",
       "    a_last_5_avrg_xa  a_last_5_avrg_sca  a_last_5_avrg_gca  a_last_5_avrg_cmp  \\\n",
       "10               0.5               16.0                0.0              327.0   \n",
       "11               2.1               32.0                7.0              429.0   \n",
       "12               2.2               51.0                7.0              546.0   \n",
       "13               0.9               25.0                2.0              188.0   \n",
       "14               0.3               11.0                3.0              301.0   \n",
       "\n",
       "    a_last_5_avrg_pass_att  a_last_5_avrg_pass_prog  a_last_5_avrg_carries  \\\n",
       "10                   425.0                     38.0                  339.0   \n",
       "11                   524.0                     44.0                  409.0   \n",
       "12                   659.0                     50.0                  593.0   \n",
       "13                   294.0                     14.0                  218.0   \n",
       "14                   450.0                     24.0                  337.0   \n",
       "\n",
       "    a_last_5_avrg_carries_prog  \n",
       "10                        20.0  \n",
       "11                        52.0  \n",
       "12                        90.0  \n",
       "13                        21.0  \n",
       "14                        20.0  "
      ]
     },
     "execution_count": 24,
     "metadata": {},
     "output_type": "execute_result"
    }
   ],
   "source": [
    "X_train_full.head()"
   ]
  },
  {
   "cell_type": "code",
   "execution_count": 25,
   "metadata": {},
   "outputs": [
    {
     "data": {
      "text/html": [
       "<div>\n",
       "<style scoped>\n",
       "    .dataframe tbody tr th:only-of-type {\n",
       "        vertical-align: middle;\n",
       "    }\n",
       "\n",
       "    .dataframe tbody tr th {\n",
       "        vertical-align: top;\n",
       "    }\n",
       "\n",
       "    .dataframe thead th {\n",
       "        text-align: right;\n",
       "    }\n",
       "</style>\n",
       "<table border=\"1\" class=\"dataframe\">\n",
       "  <thead>\n",
       "    <tr style=\"text-align: right;\">\n",
       "      <th></th>\n",
       "      <th>date</th>\n",
       "      <th>match</th>\n",
       "      <th>h_last_5_avrg_gls</th>\n",
       "      <th>h_last_5_avrg_sh</th>\n",
       "      <th>h_last_5_avrg_sot</th>\n",
       "      <th>h_last_5_touches</th>\n",
       "      <th>h_last_5_avrg_xg</th>\n",
       "      <th>h_last_5_avrg_npxg</th>\n",
       "      <th>h_last_5_avrg_xa</th>\n",
       "      <th>h_last_5_avrg_sca</th>\n",
       "      <th>h_last_5_avrg_gca</th>\n",
       "      <th>h_last_5_avrg_cmp</th>\n",
       "      <th>h_last_5_avrg_pass_att</th>\n",
       "      <th>h_last_5_avrg_pass_prog</th>\n",
       "      <th>h_last_5_avrg_carries</th>\n",
       "      <th>h_last_5_avrg_carries_prog</th>\n",
       "      <th>a_last_5_avrg_gls</th>\n",
       "      <th>a_last_5_avrg_sh</th>\n",
       "      <th>a_last_5_avrg_sot</th>\n",
       "      <th>a_last_5_touches</th>\n",
       "      <th>a_last_5_avrg_xg</th>\n",
       "      <th>a_last_5_avrg_npxg</th>\n",
       "      <th>a_last_5_avrg_xa</th>\n",
       "      <th>a_last_5_avrg_sca</th>\n",
       "      <th>a_last_5_avrg_gca</th>\n",
       "      <th>a_last_5_avrg_cmp</th>\n",
       "      <th>a_last_5_avrg_pass_att</th>\n",
       "      <th>a_last_5_avrg_pass_prog</th>\n",
       "      <th>a_last_5_avrg_carries</th>\n",
       "      <th>a_last_5_avrg_carries_prog</th>\n",
       "    </tr>\n",
       "  </thead>\n",
       "  <tbody>\n",
       "    <tr>\n",
       "      <th>1190</th>\n",
       "      <td>2020-10-24</td>\n",
       "      <td>Manchester_United_vs_Chelsea</td>\n",
       "      <td>2.0</td>\n",
       "      <td>12.0</td>\n",
       "      <td>4.0</td>\n",
       "      <td>679.2</td>\n",
       "      <td>1.58</td>\n",
       "      <td>0.98</td>\n",
       "      <td>0.60</td>\n",
       "      <td>20.0</td>\n",
       "      <td>3.6</td>\n",
       "      <td>470.4</td>\n",
       "      <td>563.6</td>\n",
       "      <td>36.8</td>\n",
       "      <td>432.0</td>\n",
       "      <td>56.8</td>\n",
       "      <td>2.6</td>\n",
       "      <td>12.8</td>\n",
       "      <td>5.2</td>\n",
       "      <td>756.0</td>\n",
       "      <td>1.82</td>\n",
       "      <td>1.18</td>\n",
       "      <td>0.86</td>\n",
       "      <td>22.8</td>\n",
       "      <td>4.2</td>\n",
       "      <td>544.8</td>\n",
       "      <td>637.4</td>\n",
       "      <td>36.6</td>\n",
       "      <td>504.0</td>\n",
       "      <td>50.0</td>\n",
       "    </tr>\n",
       "    <tr>\n",
       "      <th>1191</th>\n",
       "      <td>2020-10-24</td>\n",
       "      <td>Fulham_vs_Crystal_Palace</td>\n",
       "      <td>0.8</td>\n",
       "      <td>11.6</td>\n",
       "      <td>3.4</td>\n",
       "      <td>662.2</td>\n",
       "      <td>0.92</td>\n",
       "      <td>0.64</td>\n",
       "      <td>0.64</td>\n",
       "      <td>19.2</td>\n",
       "      <td>1.6</td>\n",
       "      <td>463.2</td>\n",
       "      <td>552.0</td>\n",
       "      <td>30.2</td>\n",
       "      <td>438.4</td>\n",
       "      <td>45.2</td>\n",
       "      <td>1.2</td>\n",
       "      <td>6.2</td>\n",
       "      <td>1.6</td>\n",
       "      <td>442.8</td>\n",
       "      <td>0.74</td>\n",
       "      <td>0.42</td>\n",
       "      <td>0.36</td>\n",
       "      <td>10.0</td>\n",
       "      <td>1.8</td>\n",
       "      <td>209.2</td>\n",
       "      <td>309.8</td>\n",
       "      <td>21.2</td>\n",
       "      <td>220.4</td>\n",
       "      <td>23.6</td>\n",
       "    </tr>\n",
       "    <tr>\n",
       "      <th>1192</th>\n",
       "      <td>2020-10-24</td>\n",
       "      <td>Liverpool_vs_Sheffield_United</td>\n",
       "      <td>2.6</td>\n",
       "      <td>18.8</td>\n",
       "      <td>6.8</td>\n",
       "      <td>775.8</td>\n",
       "      <td>2.52</td>\n",
       "      <td>2.22</td>\n",
       "      <td>1.34</td>\n",
       "      <td>27.8</td>\n",
       "      <td>2.4</td>\n",
       "      <td>556.2</td>\n",
       "      <td>664.8</td>\n",
       "      <td>55.4</td>\n",
       "      <td>510.6</td>\n",
       "      <td>55.6</td>\n",
       "      <td>0.4</td>\n",
       "      <td>8.0</td>\n",
       "      <td>2.2</td>\n",
       "      <td>498.6</td>\n",
       "      <td>0.90</td>\n",
       "      <td>0.58</td>\n",
       "      <td>0.56</td>\n",
       "      <td>13.4</td>\n",
       "      <td>0.6</td>\n",
       "      <td>294.2</td>\n",
       "      <td>399.6</td>\n",
       "      <td>27.2</td>\n",
       "      <td>271.2</td>\n",
       "      <td>35.4</td>\n",
       "    </tr>\n",
       "    <tr>\n",
       "      <th>1193</th>\n",
       "      <td>2020-10-25</td>\n",
       "      <td>Arsenal_vs_Leicester_City</td>\n",
       "      <td>1.6</td>\n",
       "      <td>8.0</td>\n",
       "      <td>3.8</td>\n",
       "      <td>691.6</td>\n",
       "      <td>1.14</td>\n",
       "      <td>1.14</td>\n",
       "      <td>0.78</td>\n",
       "      <td>12.8</td>\n",
       "      <td>2.4</td>\n",
       "      <td>503.4</td>\n",
       "      <td>593.8</td>\n",
       "      <td>27.0</td>\n",
       "      <td>450.6</td>\n",
       "      <td>45.4</td>\n",
       "      <td>2.2</td>\n",
       "      <td>8.4</td>\n",
       "      <td>4.0</td>\n",
       "      <td>649.6</td>\n",
       "      <td>1.38</td>\n",
       "      <td>0.62</td>\n",
       "      <td>0.32</td>\n",
       "      <td>15.8</td>\n",
       "      <td>4.6</td>\n",
       "      <td>439.2</td>\n",
       "      <td>544.4</td>\n",
       "      <td>34.4</td>\n",
       "      <td>421.0</td>\n",
       "      <td>44.4</td>\n",
       "    </tr>\n",
       "    <tr>\n",
       "      <th>1194</th>\n",
       "      <td>2020-10-25</td>\n",
       "      <td>Southampton_vs_Everton</td>\n",
       "      <td>1.6</td>\n",
       "      <td>10.6</td>\n",
       "      <td>4.8</td>\n",
       "      <td>660.8</td>\n",
       "      <td>1.30</td>\n",
       "      <td>1.14</td>\n",
       "      <td>0.74</td>\n",
       "      <td>14.4</td>\n",
       "      <td>2.0</td>\n",
       "      <td>413.4</td>\n",
       "      <td>542.6</td>\n",
       "      <td>33.4</td>\n",
       "      <td>365.6</td>\n",
       "      <td>43.4</td>\n",
       "      <td>2.8</td>\n",
       "      <td>12.4</td>\n",
       "      <td>5.4</td>\n",
       "      <td>690.2</td>\n",
       "      <td>1.98</td>\n",
       "      <td>1.82</td>\n",
       "      <td>1.30</td>\n",
       "      <td>20.6</td>\n",
       "      <td>5.0</td>\n",
       "      <td>478.0</td>\n",
       "      <td>569.6</td>\n",
       "      <td>29.0</td>\n",
       "      <td>433.6</td>\n",
       "      <td>38.0</td>\n",
       "    </tr>\n",
       "  </tbody>\n",
       "</table>\n",
       "</div>"
      ],
      "text/plain": [
       "            date                          match  h_last_5_avrg_gls  \\\n",
       "1190  2020-10-24   Manchester_United_vs_Chelsea                2.0   \n",
       "1191  2020-10-24       Fulham_vs_Crystal_Palace                0.8   \n",
       "1192  2020-10-24  Liverpool_vs_Sheffield_United                2.6   \n",
       "1193  2020-10-25      Arsenal_vs_Leicester_City                1.6   \n",
       "1194  2020-10-25         Southampton_vs_Everton                1.6   \n",
       "\n",
       "      h_last_5_avrg_sh  h_last_5_avrg_sot  h_last_5_touches  h_last_5_avrg_xg  \\\n",
       "1190              12.0                4.0             679.2              1.58   \n",
       "1191              11.6                3.4             662.2              0.92   \n",
       "1192              18.8                6.8             775.8              2.52   \n",
       "1193               8.0                3.8             691.6              1.14   \n",
       "1194              10.6                4.8             660.8              1.30   \n",
       "\n",
       "      h_last_5_avrg_npxg  h_last_5_avrg_xa  h_last_5_avrg_sca  \\\n",
       "1190                0.98              0.60               20.0   \n",
       "1191                0.64              0.64               19.2   \n",
       "1192                2.22              1.34               27.8   \n",
       "1193                1.14              0.78               12.8   \n",
       "1194                1.14              0.74               14.4   \n",
       "\n",
       "      h_last_5_avrg_gca  h_last_5_avrg_cmp  h_last_5_avrg_pass_att  \\\n",
       "1190                3.6              470.4                   563.6   \n",
       "1191                1.6              463.2                   552.0   \n",
       "1192                2.4              556.2                   664.8   \n",
       "1193                2.4              503.4                   593.8   \n",
       "1194                2.0              413.4                   542.6   \n",
       "\n",
       "      h_last_5_avrg_pass_prog  h_last_5_avrg_carries  \\\n",
       "1190                     36.8                  432.0   \n",
       "1191                     30.2                  438.4   \n",
       "1192                     55.4                  510.6   \n",
       "1193                     27.0                  450.6   \n",
       "1194                     33.4                  365.6   \n",
       "\n",
       "      h_last_5_avrg_carries_prog  a_last_5_avrg_gls  a_last_5_avrg_sh  \\\n",
       "1190                        56.8                2.6              12.8   \n",
       "1191                        45.2                1.2               6.2   \n",
       "1192                        55.6                0.4               8.0   \n",
       "1193                        45.4                2.2               8.4   \n",
       "1194                        43.4                2.8              12.4   \n",
       "\n",
       "      a_last_5_avrg_sot  a_last_5_touches  a_last_5_avrg_xg  \\\n",
       "1190                5.2             756.0              1.82   \n",
       "1191                1.6             442.8              0.74   \n",
       "1192                2.2             498.6              0.90   \n",
       "1193                4.0             649.6              1.38   \n",
       "1194                5.4             690.2              1.98   \n",
       "\n",
       "      a_last_5_avrg_npxg  a_last_5_avrg_xa  a_last_5_avrg_sca  \\\n",
       "1190                1.18              0.86               22.8   \n",
       "1191                0.42              0.36               10.0   \n",
       "1192                0.58              0.56               13.4   \n",
       "1193                0.62              0.32               15.8   \n",
       "1194                1.82              1.30               20.6   \n",
       "\n",
       "      a_last_5_avrg_gca  a_last_5_avrg_cmp  a_last_5_avrg_pass_att  \\\n",
       "1190                4.2              544.8                   637.4   \n",
       "1191                1.8              209.2                   309.8   \n",
       "1192                0.6              294.2                   399.6   \n",
       "1193                4.6              439.2                   544.4   \n",
       "1194                5.0              478.0                   569.6   \n",
       "\n",
       "      a_last_5_avrg_pass_prog  a_last_5_avrg_carries  \\\n",
       "1190                     36.6                  504.0   \n",
       "1191                     21.2                  220.4   \n",
       "1192                     27.2                  271.2   \n",
       "1193                     34.4                  421.0   \n",
       "1194                     29.0                  433.6   \n",
       "\n",
       "      a_last_5_avrg_carries_prog  \n",
       "1190                        50.0  \n",
       "1191                        23.6  \n",
       "1192                        35.4  \n",
       "1193                        44.4  \n",
       "1194                        38.0  "
      ]
     },
     "execution_count": 25,
     "metadata": {},
     "output_type": "execute_result"
    }
   ],
   "source": [
    "X_test_full.head()"
   ]
  },
  {
   "cell_type": "code",
   "execution_count": 26,
   "metadata": {},
   "outputs": [],
   "source": [
    "X_train = X_train_full.drop(columns = ['date','match'])\n",
    "X_test = X_test_full.drop(columns = ['date','match'])"
   ]
  },
  {
   "cell_type": "code",
   "execution_count": 27,
   "metadata": {},
   "outputs": [],
   "source": [
    "normalizing = MinMaxScaler()\n",
    "X_train_n = normalizing.fit_transform(X_train)\n",
    "X_test_n = normalizing.transform(X_test)"
   ]
  },
  {
   "cell_type": "code",
   "execution_count": 28,
   "metadata": {},
   "outputs": [],
   "source": [
    "#X_train = pd.DataFrame(X_train)\n",
    "#X_test = pd.DataFrame(X_test)"
   ]
  },
  {
   "cell_type": "code",
   "execution_count": 29,
   "metadata": {},
   "outputs": [
    {
     "data": {
      "text/plain": [
       "(1173, 28)"
      ]
     },
     "execution_count": 29,
     "metadata": {},
     "output_type": "execute_result"
    }
   ],
   "source": [
    "X_train.shape"
   ]
  },
  {
   "cell_type": "code",
   "execution_count": 30,
   "metadata": {
    "scrolled": true
   },
   "outputs": [
    {
     "data": {
      "text/plain": [
       "0    0.456095\n",
       "2    0.315431\n",
       "1    0.228474\n",
       "Name: result, dtype: float64"
      ]
     },
     "execution_count": 30,
     "metadata": {},
     "output_type": "execute_result"
    }
   ],
   "source": [
    "y_train.value_counts(normalize=True)"
   ]
  },
  {
   "cell_type": "code",
   "execution_count": 31,
   "metadata": {},
   "outputs": [
    {
     "data": {
      "text/plain": [
       "(1173, 28)"
      ]
     },
     "execution_count": 31,
     "metadata": {},
     "output_type": "execute_result"
    }
   ],
   "source": [
    "X_train.shape"
   ]
  },
  {
   "cell_type": "code",
   "execution_count": 32,
   "metadata": {},
   "outputs": [
    {
     "data": {
      "text/plain": [
       "Index(['h_last_5_avrg_gls', 'h_last_5_avrg_sh', 'h_last_5_avrg_sot',\n",
       "       'h_last_5_touches', 'h_last_5_avrg_xg', 'h_last_5_avrg_npxg',\n",
       "       'h_last_5_avrg_xa', 'h_last_5_avrg_sca', 'h_last_5_avrg_gca',\n",
       "       'h_last_5_avrg_cmp', 'h_last_5_avrg_pass_att',\n",
       "       'h_last_5_avrg_pass_prog', 'h_last_5_avrg_carries',\n",
       "       'h_last_5_avrg_carries_prog', 'a_last_5_avrg_gls', 'a_last_5_avrg_sh',\n",
       "       'a_last_5_avrg_sot', 'a_last_5_touches', 'a_last_5_avrg_xg',\n",
       "       'a_last_5_avrg_npxg', 'a_last_5_avrg_xa', 'a_last_5_avrg_sca',\n",
       "       'a_last_5_avrg_gca', 'a_last_5_avrg_cmp', 'a_last_5_avrg_pass_att',\n",
       "       'a_last_5_avrg_pass_prog', 'a_last_5_avrg_carries',\n",
       "       'a_last_5_avrg_carries_prog'],\n",
       "      dtype='object')"
      ]
     },
     "execution_count": 32,
     "metadata": {},
     "output_type": "execute_result"
    }
   ],
   "source": [
    "X_train.columns"
   ]
  },
  {
   "cell_type": "markdown",
   "metadata": {},
   "source": [
    "## Logistic Regression"
   ]
  },
  {
   "cell_type": "code",
   "execution_count": 33,
   "metadata": {},
   "outputs": [],
   "source": [
    "lr = LogisticRegression()"
   ]
  },
  {
   "cell_type": "code",
   "execution_count": 34,
   "metadata": {},
   "outputs": [],
   "source": [
    "lr_params = {\n",
    "    'C': np.linspace(0.1,1,5)\n",
    "}"
   ]
  },
  {
   "cell_type": "code",
   "execution_count": 35,
   "metadata": {},
   "outputs": [],
   "source": [
    "gs_lr = GridSearchCV(lr, param_grid = lr_params, cv=5,n_jobs=-1, verbose=1,scoring='f1_macro')"
   ]
  },
  {
   "cell_type": "code",
   "execution_count": 36,
   "metadata": {},
   "outputs": [
    {
     "name": "stdout",
     "output_type": "stream",
     "text": [
      "Fitting 5 folds for each of 5 candidates, totalling 25 fits\n"
     ]
    },
    {
     "name": "stderr",
     "output_type": "stream",
     "text": [
      "[Parallel(n_jobs=-1)]: Using backend LokyBackend with 12 concurrent workers.\n",
      "[Parallel(n_jobs=-1)]: Done  25 out of  25 | elapsed:    2.4s finished\n"
     ]
    },
    {
     "data": {
      "text/plain": [
       "GridSearchCV(cv=5, estimator=LogisticRegression(), n_jobs=-1,\n",
       "             param_grid={'C': array([0.1  , 0.325, 0.55 , 0.775, 1.   ])},\n",
       "             scoring='f1_macro', verbose=1)"
      ]
     },
     "execution_count": 36,
     "metadata": {},
     "output_type": "execute_result"
    }
   ],
   "source": [
    "gs_lr.fit(X_train_n, y_train)"
   ]
  },
  {
   "cell_type": "code",
   "execution_count": 37,
   "metadata": {},
   "outputs": [
    {
     "data": {
      "text/plain": [
       "LogisticRegression()"
      ]
     },
     "execution_count": 37,
     "metadata": {},
     "output_type": "execute_result"
    }
   ],
   "source": [
    "gs_lr.best_estimator_"
   ]
  },
  {
   "cell_type": "code",
   "execution_count": 38,
   "metadata": {},
   "outputs": [],
   "source": [
    "lr = LogisticRegression() #class_weight='balanced')"
   ]
  },
  {
   "cell_type": "code",
   "execution_count": 39,
   "metadata": {
    "scrolled": true
   },
   "outputs": [
    {
     "data": {
      "text/plain": [
       "LogisticRegression()"
      ]
     },
     "execution_count": 39,
     "metadata": {},
     "output_type": "execute_result"
    }
   ],
   "source": [
    "lr.fit(X_train_n,y_train)"
   ]
  },
  {
   "cell_type": "code",
   "execution_count": 40,
   "metadata": {},
   "outputs": [],
   "source": [
    "lr_preds = lr.predict(X_test_n)"
   ]
  },
  {
   "cell_type": "code",
   "execution_count": 41,
   "metadata": {
    "scrolled": true
   },
   "outputs": [
    {
     "name": "stdout",
     "output_type": "stream",
     "text": [
      "0.526001705029838\n",
      "0.4961832061068702\n"
     ]
    }
   ],
   "source": [
    "print(lr.score(X_train_n,y_train))\n",
    "print(lr.score(X_test_n,y_test))"
   ]
  },
  {
   "cell_type": "code",
   "execution_count": 42,
   "metadata": {
    "scrolled": true
   },
   "outputs": [
    {
     "data": {
      "text/html": [
       "<div>\n",
       "<style scoped>\n",
       "    .dataframe tbody tr th:only-of-type {\n",
       "        vertical-align: middle;\n",
       "    }\n",
       "\n",
       "    .dataframe tbody tr th {\n",
       "        vertical-align: top;\n",
       "    }\n",
       "\n",
       "    .dataframe thead th {\n",
       "        text-align: right;\n",
       "    }\n",
       "</style>\n",
       "<table border=\"1\" class=\"dataframe\">\n",
       "  <thead>\n",
       "    <tr style=\"text-align: right;\">\n",
       "      <th></th>\n",
       "      <th>coef</th>\n",
       "    </tr>\n",
       "  </thead>\n",
       "  <tbody>\n",
       "    <tr>\n",
       "      <th>h_last_5_avrg_carries_prog</th>\n",
       "      <td>1.924995</td>\n",
       "    </tr>\n",
       "    <tr>\n",
       "      <th>h_last_5_avrg_xa</th>\n",
       "      <td>1.875037</td>\n",
       "    </tr>\n",
       "    <tr>\n",
       "      <th>h_last_5_avrg_pass_prog</th>\n",
       "      <td>1.481426</td>\n",
       "    </tr>\n",
       "    <tr>\n",
       "      <th>h_last_5_touches</th>\n",
       "      <td>1.469475</td>\n",
       "    </tr>\n",
       "    <tr>\n",
       "      <th>h_last_5_avrg_pass_att</th>\n",
       "      <td>1.457950</td>\n",
       "    </tr>\n",
       "    <tr>\n",
       "      <th>h_last_5_avrg_npxg</th>\n",
       "      <td>1.439961</td>\n",
       "    </tr>\n",
       "    <tr>\n",
       "      <th>a_last_5_avrg_sca</th>\n",
       "      <td>1.318814</td>\n",
       "    </tr>\n",
       "    <tr>\n",
       "      <th>h_last_5_avrg_sh</th>\n",
       "      <td>1.243579</td>\n",
       "    </tr>\n",
       "    <tr>\n",
       "      <th>a_last_5_avrg_carries</th>\n",
       "      <td>1.220516</td>\n",
       "    </tr>\n",
       "    <tr>\n",
       "      <th>h_last_5_avrg_gls</th>\n",
       "      <td>1.144763</td>\n",
       "    </tr>\n",
       "    <tr>\n",
       "      <th>a_last_5_touches</th>\n",
       "      <td>1.110750</td>\n",
       "    </tr>\n",
       "    <tr>\n",
       "      <th>a_last_5_avrg_xa</th>\n",
       "      <td>1.089240</td>\n",
       "    </tr>\n",
       "    <tr>\n",
       "      <th>h_last_5_avrg_cmp</th>\n",
       "      <td>1.089119</td>\n",
       "    </tr>\n",
       "    <tr>\n",
       "      <th>h_last_5_avrg_xg</th>\n",
       "      <td>1.035164</td>\n",
       "    </tr>\n",
       "    <tr>\n",
       "      <th>h_last_5_avrg_sot</th>\n",
       "      <td>1.011593</td>\n",
       "    </tr>\n",
       "    <tr>\n",
       "      <th>h_last_5_avrg_gca</th>\n",
       "      <td>0.993681</td>\n",
       "    </tr>\n",
       "    <tr>\n",
       "      <th>a_last_5_avrg_gca</th>\n",
       "      <td>0.971975</td>\n",
       "    </tr>\n",
       "    <tr>\n",
       "      <th>a_last_5_avrg_pass_prog</th>\n",
       "      <td>0.953186</td>\n",
       "    </tr>\n",
       "    <tr>\n",
       "      <th>h_last_5_avrg_carries</th>\n",
       "      <td>0.948279</td>\n",
       "    </tr>\n",
       "    <tr>\n",
       "      <th>a_last_5_avrg_pass_att</th>\n",
       "      <td>0.872872</td>\n",
       "    </tr>\n",
       "    <tr>\n",
       "      <th>a_last_5_avrg_sot</th>\n",
       "      <td>0.860327</td>\n",
       "    </tr>\n",
       "    <tr>\n",
       "      <th>a_last_5_avrg_cmp</th>\n",
       "      <td>0.843533</td>\n",
       "    </tr>\n",
       "    <tr>\n",
       "      <th>a_last_5_avrg_sh</th>\n",
       "      <td>0.755809</td>\n",
       "    </tr>\n",
       "    <tr>\n",
       "      <th>h_last_5_avrg_sca</th>\n",
       "      <td>0.743362</td>\n",
       "    </tr>\n",
       "    <tr>\n",
       "      <th>a_last_5_avrg_gls</th>\n",
       "      <td>0.726631</td>\n",
       "    </tr>\n",
       "    <tr>\n",
       "      <th>a_last_5_avrg_carries_prog</th>\n",
       "      <td>0.689563</td>\n",
       "    </tr>\n",
       "    <tr>\n",
       "      <th>a_last_5_avrg_xg</th>\n",
       "      <td>0.535812</td>\n",
       "    </tr>\n",
       "    <tr>\n",
       "      <th>a_last_5_avrg_npxg</th>\n",
       "      <td>0.520531</td>\n",
       "    </tr>\n",
       "  </tbody>\n",
       "</table>\n",
       "</div>"
      ],
      "text/plain": [
       "                                coef\n",
       "h_last_5_avrg_carries_prog  1.924995\n",
       "h_last_5_avrg_xa            1.875037\n",
       "h_last_5_avrg_pass_prog     1.481426\n",
       "h_last_5_touches            1.469475\n",
       "h_last_5_avrg_pass_att      1.457950\n",
       "h_last_5_avrg_npxg          1.439961\n",
       "a_last_5_avrg_sca           1.318814\n",
       "h_last_5_avrg_sh            1.243579\n",
       "a_last_5_avrg_carries       1.220516\n",
       "h_last_5_avrg_gls           1.144763\n",
       "a_last_5_touches            1.110750\n",
       "a_last_5_avrg_xa            1.089240\n",
       "h_last_5_avrg_cmp           1.089119\n",
       "h_last_5_avrg_xg            1.035164\n",
       "h_last_5_avrg_sot           1.011593\n",
       "h_last_5_avrg_gca           0.993681\n",
       "a_last_5_avrg_gca           0.971975\n",
       "a_last_5_avrg_pass_prog     0.953186\n",
       "h_last_5_avrg_carries       0.948279\n",
       "a_last_5_avrg_pass_att      0.872872\n",
       "a_last_5_avrg_sot           0.860327\n",
       "a_last_5_avrg_cmp           0.843533\n",
       "a_last_5_avrg_sh            0.755809\n",
       "h_last_5_avrg_sca           0.743362\n",
       "a_last_5_avrg_gls           0.726631\n",
       "a_last_5_avrg_carries_prog  0.689563\n",
       "a_last_5_avrg_xg            0.535812\n",
       "a_last_5_avrg_npxg          0.520531"
      ]
     },
     "execution_count": 42,
     "metadata": {},
     "output_type": "execute_result"
    }
   ],
   "source": [
    "lr_coeff = np.exp(lr.coef_[0])\n",
    "imp_lr = pd.DataFrame(lr_coeff, X_train.columns, columns=['coef']).sort_values(by='coef',ascending=False)\n",
    "imp_lr.head(53)"
   ]
  },
  {
   "cell_type": "code",
   "execution_count": 43,
   "metadata": {},
   "outputs": [
    {
     "data": {
      "image/png": "[encoded data removed]",
      "text/plain": [
       "<Figure size 720x432 with 1 Axes>"
      ]
     },
     "metadata": {
      "needs_background": "light"
     },
     "output_type": "display_data"
    },
    {
     "data": {
      "image/png": "[encoded data removed]",
      "text/plain": [
       "<Figure size 720x432 with 1 Axes>"
      ]
     },
     "metadata": {
      "needs_background": "light"
     },
     "output_type": "display_data"
    }
   ],
   "source": [
    "# Plotting top 20 +ve features in bar chart\n",
    "imp_lr.head(20).plot(kind='barh', figsize=(10,6))\n",
    "plt.title('Top 20 Feature Coefficients (+ve) for Logistic Regression', fontsize=15)\n",
    "plt.gca().invert_yaxis()\n",
    "plt.legend(loc=4);\n",
    "\n",
    "imp_lr.tail(20).plot(kind='barh', figsize=(10,6))\n",
    "plt.title('Top 20 Feature Coefficients (-ve) for Logistic Regression', fontsize=15)\n",
    "plt.gca().invert_yaxis()\n",
    "plt.legend(loc=4);"
   ]
  },
  {
   "cell_type": "code",
   "execution_count": 44,
   "metadata": {},
   "outputs": [
    {
     "data": {
      "text/html": [
       "<div>\n",
       "<style scoped>\n",
       "    .dataframe tbody tr th:only-of-type {\n",
       "        vertical-align: middle;\n",
       "    }\n",
       "\n",
       "    .dataframe tbody tr th {\n",
       "        vertical-align: top;\n",
       "    }\n",
       "\n",
       "    .dataframe thead th {\n",
       "        text-align: right;\n",
       "    }\n",
       "</style>\n",
       "<table border=\"1\" class=\"dataframe\">\n",
       "  <thead>\n",
       "    <tr style=\"text-align: right;\">\n",
       "      <th></th>\n",
       "      <th>index</th>\n",
       "      <th>date</th>\n",
       "      <th>0</th>\n",
       "      <th>1</th>\n",
       "      <th>2</th>\n",
       "    </tr>\n",
       "  </thead>\n",
       "  <tbody>\n",
       "    <tr>\n",
       "      <th>0</th>\n",
       "      <td>1190</td>\n",
       "      <td>2020-10-24</td>\n",
       "      <td>0.415563</td>\n",
       "      <td>0.212016</td>\n",
       "      <td>0.372422</td>\n",
       "    </tr>\n",
       "    <tr>\n",
       "      <th>1</th>\n",
       "      <td>1191</td>\n",
       "      <td>2020-10-24</td>\n",
       "      <td>0.596456</td>\n",
       "      <td>0.244849</td>\n",
       "      <td>0.158694</td>\n",
       "    </tr>\n",
       "    <tr>\n",
       "      <th>2</th>\n",
       "      <td>1192</td>\n",
       "      <td>2020-10-24</td>\n",
       "      <td>0.810918</td>\n",
       "      <td>0.135386</td>\n",
       "      <td>0.053696</td>\n",
       "    </tr>\n",
       "    <tr>\n",
       "      <th>3</th>\n",
       "      <td>1193</td>\n",
       "      <td>2020-10-25</td>\n",
       "      <td>0.514871</td>\n",
       "      <td>0.189709</td>\n",
       "      <td>0.295420</td>\n",
       "    </tr>\n",
       "    <tr>\n",
       "      <th>4</th>\n",
       "      <td>1194</td>\n",
       "      <td>2020-10-25</td>\n",
       "      <td>0.333127</td>\n",
       "      <td>0.208758</td>\n",
       "      <td>0.458115</td>\n",
       "    </tr>\n",
       "  </tbody>\n",
       "</table>\n",
       "</div>"
      ],
      "text/plain": [
       "   index        date         0         1         2\n",
       "0   1190  2020-10-24  0.415563  0.212016  0.372422\n",
       "1   1191  2020-10-24  0.596456  0.244849  0.158694\n",
       "2   1192  2020-10-24  0.810918  0.135386  0.053696\n",
       "3   1193  2020-10-25  0.514871  0.189709  0.295420\n",
       "4   1194  2020-10-25  0.333127  0.208758  0.458115"
      ]
     },
     "execution_count": 44,
     "metadata": {},
     "output_type": "execute_result"
    }
   ],
   "source": [
    "lr_proba = lr.predict_proba(X_test_n)\n",
    "df_lr_prob = pd.DataFrame(lr_proba)\n",
    "lr_matches_prob = pd.merge(X_test_full[['date']].reset_index(),df_lr_prob,left_index=True,right_index=True)\n",
    "lr_matches_prob.head()"
   ]
  },
  {
   "cell_type": "code",
   "execution_count": 45,
   "metadata": {},
   "outputs": [],
   "source": [
    "# Initialize empty list to store all the scores and corresponding model names\n",
    "model_name = []\n",
    "model_scores = []\n",
    "model_var = []\n",
    "model_test_scores = []\n",
    "\n",
    "# Append to the lists\n",
    "model_name.append('Logistic Regression')\n",
    "model_scores.append(lr.score(X_train_n, y_train))\n",
    "model_var.append(lr)\n",
    "model_test_scores.append(lr.score(X_test_n,y_test))"
   ]
  },
  {
   "cell_type": "markdown",
   "metadata": {},
   "source": [
    "## Random Forest Classification"
   ]
  },
  {
   "cell_type": "code",
   "execution_count": 46,
   "metadata": {},
   "outputs": [],
   "source": [
    "rf = RandomForestClassifier()"
   ]
  },
  {
   "cell_type": "code",
   "execution_count": 47,
   "metadata": {},
   "outputs": [],
   "source": [
    "rf_params = {\n",
    "    'n_estimators': [80, 100, 120],\n",
    "    'max_depth': [3, 5],\n",
    "    'min_samples_leaf': [2, 4],\n",
    "    'min_samples_split' : [2, 4]\n",
    "}\n",
    "\n",
    "gs_rf = GridSearchCV(rf, param_grid = rf_params, cv=5,n_jobs=-1,verbose=1,scoring='f1_macro')"
   ]
  },
  {
   "cell_type": "code",
   "execution_count": 48,
   "metadata": {},
   "outputs": [
    {
     "name": "stdout",
     "output_type": "stream",
     "text": [
      "Fitting 5 folds for each of 24 candidates, totalling 120 fits\n"
     ]
    },
    {
     "name": "stderr",
     "output_type": "stream",
     "text": [
      "[Parallel(n_jobs=-1)]: Using backend LokyBackend with 12 concurrent workers.\n",
      "[Parallel(n_jobs=-1)]: Done  26 tasks      | elapsed:    0.7s\n",
      "[Parallel(n_jobs=-1)]: Done 120 out of 120 | elapsed:    2.6s finished\n"
     ]
    },
    {
     "data": {
      "text/plain": [
       "RandomForestClassifier(max_depth=3, min_samples_leaf=2)"
      ]
     },
     "execution_count": 48,
     "metadata": {},
     "output_type": "execute_result"
    }
   ],
   "source": [
    "gs_rf.fit(X_train_n, y_train)\n",
    "gs_rf.best_estimator_"
   ]
  },
  {
   "cell_type": "code",
   "execution_count": 97,
   "metadata": {},
   "outputs": [],
   "source": [
    "rf = RandomForestClassifier(max_depth=3, min_samples_leaf=2)"
   ]
  },
  {
   "cell_type": "code",
   "execution_count": 98,
   "metadata": {},
   "outputs": [
    {
     "data": {
      "text/plain": [
       "RandomForestClassifier(max_depth=3, min_samples_leaf=2)"
      ]
     },
     "execution_count": 98,
     "metadata": {},
     "output_type": "execute_result"
    }
   ],
   "source": [
    "rf.fit(X_train_n,y_train)"
   ]
  },
  {
   "cell_type": "code",
   "execution_count": 99,
   "metadata": {},
   "outputs": [
    {
     "name": "stdout",
     "output_type": "stream",
     "text": [
      "0.5473145780051151\n",
      "0.4732824427480916\n"
     ]
    }
   ],
   "source": [
    "print(rf.score(X_train_n,y_train))\n",
    "print(rf.score(X_test_n,y_test))"
   ]
  },
  {
   "cell_type": "code",
   "execution_count": 100,
   "metadata": {},
   "outputs": [],
   "source": [
    "rf_preds = rf.predict(X_test_n)"
   ]
  },
  {
   "cell_type": "code",
   "execution_count": 101,
   "metadata": {},
   "outputs": [
    {
     "data": {
      "text/plain": [
       "array([0.00906661, 0.04397187, 0.010323  , 0.07472321, 0.02689594,\n",
       "       0.01118561, 0.03808951, 0.02674606, 0.00320251, 0.07114764,\n",
       "       0.07331572, 0.07600128, 0.04538657, 0.0625805 , 0.01325049,\n",
       "       0.01384622, 0.02650502, 0.04130222, 0.0254747 , 0.05093693,\n",
       "       0.0231886 , 0.01631759, 0.00871604, 0.0510875 , 0.04514714,\n",
       "       0.05650066, 0.02639836, 0.02869248])"
      ]
     },
     "execution_count": 101,
     "metadata": {},
     "output_type": "execute_result"
    }
   ],
   "source": [
    "rf_impt_feature = rf.feature_importances_\n",
    "rf_impt_feature"
   ]
  },
  {
   "cell_type": "code",
   "execution_count": 102,
   "metadata": {},
   "outputs": [
    {
     "data": {
      "text/html": [
       "<div>\n",
       "<style scoped>\n",
       "    .dataframe tbody tr th:only-of-type {\n",
       "        vertical-align: middle;\n",
       "    }\n",
       "\n",
       "    .dataframe tbody tr th {\n",
       "        vertical-align: top;\n",
       "    }\n",
       "\n",
       "    .dataframe thead th {\n",
       "        text-align: right;\n",
       "    }\n",
       "</style>\n",
       "<table border=\"1\" class=\"dataframe\">\n",
       "  <thead>\n",
       "    <tr style=\"text-align: right;\">\n",
       "      <th></th>\n",
       "      <th>Importance</th>\n",
       "    </tr>\n",
       "  </thead>\n",
       "  <tbody>\n",
       "    <tr>\n",
       "      <th>h_last_5_avrg_pass_prog</th>\n",
       "      <td>0.076001</td>\n",
       "    </tr>\n",
       "    <tr>\n",
       "      <th>h_last_5_touches</th>\n",
       "      <td>0.074723</td>\n",
       "    </tr>\n",
       "    <tr>\n",
       "      <th>h_last_5_avrg_pass_att</th>\n",
       "      <td>0.073316</td>\n",
       "    </tr>\n",
       "    <tr>\n",
       "      <th>h_last_5_avrg_cmp</th>\n",
       "      <td>0.071148</td>\n",
       "    </tr>\n",
       "    <tr>\n",
       "      <th>h_last_5_avrg_carries_prog</th>\n",
       "      <td>0.062580</td>\n",
       "    </tr>\n",
       "    <tr>\n",
       "      <th>a_last_5_avrg_pass_prog</th>\n",
       "      <td>0.056501</td>\n",
       "    </tr>\n",
       "    <tr>\n",
       "      <th>a_last_5_avrg_cmp</th>\n",
       "      <td>0.051088</td>\n",
       "    </tr>\n",
       "    <tr>\n",
       "      <th>a_last_5_avrg_npxg</th>\n",
       "      <td>0.050937</td>\n",
       "    </tr>\n",
       "    <tr>\n",
       "      <th>h_last_5_avrg_carries</th>\n",
       "      <td>0.045387</td>\n",
       "    </tr>\n",
       "    <tr>\n",
       "      <th>a_last_5_avrg_pass_att</th>\n",
       "      <td>0.045147</td>\n",
       "    </tr>\n",
       "    <tr>\n",
       "      <th>h_last_5_avrg_sh</th>\n",
       "      <td>0.043972</td>\n",
       "    </tr>\n",
       "    <tr>\n",
       "      <th>a_last_5_touches</th>\n",
       "      <td>0.041302</td>\n",
       "    </tr>\n",
       "    <tr>\n",
       "      <th>h_last_5_avrg_xa</th>\n",
       "      <td>0.038090</td>\n",
       "    </tr>\n",
       "    <tr>\n",
       "      <th>a_last_5_avrg_carries_prog</th>\n",
       "      <td>0.028692</td>\n",
       "    </tr>\n",
       "    <tr>\n",
       "      <th>h_last_5_avrg_xg</th>\n",
       "      <td>0.026896</td>\n",
       "    </tr>\n",
       "    <tr>\n",
       "      <th>h_last_5_avrg_sca</th>\n",
       "      <td>0.026746</td>\n",
       "    </tr>\n",
       "    <tr>\n",
       "      <th>a_last_5_avrg_sot</th>\n",
       "      <td>0.026505</td>\n",
       "    </tr>\n",
       "    <tr>\n",
       "      <th>a_last_5_avrg_carries</th>\n",
       "      <td>0.026398</td>\n",
       "    </tr>\n",
       "    <tr>\n",
       "      <th>a_last_5_avrg_xg</th>\n",
       "      <td>0.025475</td>\n",
       "    </tr>\n",
       "    <tr>\n",
       "      <th>a_last_5_avrg_xa</th>\n",
       "      <td>0.023189</td>\n",
       "    </tr>\n",
       "    <tr>\n",
       "      <th>a_last_5_avrg_sca</th>\n",
       "      <td>0.016318</td>\n",
       "    </tr>\n",
       "    <tr>\n",
       "      <th>a_last_5_avrg_sh</th>\n",
       "      <td>0.013846</td>\n",
       "    </tr>\n",
       "    <tr>\n",
       "      <th>a_last_5_avrg_gls</th>\n",
       "      <td>0.013250</td>\n",
       "    </tr>\n",
       "    <tr>\n",
       "      <th>h_last_5_avrg_npxg</th>\n",
       "      <td>0.011186</td>\n",
       "    </tr>\n",
       "    <tr>\n",
       "      <th>h_last_5_avrg_sot</th>\n",
       "      <td>0.010323</td>\n",
       "    </tr>\n",
       "    <tr>\n",
       "      <th>h_last_5_avrg_gls</th>\n",
       "      <td>0.009067</td>\n",
       "    </tr>\n",
       "    <tr>\n",
       "      <th>a_last_5_avrg_gca</th>\n",
       "      <td>0.008716</td>\n",
       "    </tr>\n",
       "    <tr>\n",
       "      <th>h_last_5_avrg_gca</th>\n",
       "      <td>0.003203</td>\n",
       "    </tr>\n",
       "  </tbody>\n",
       "</table>\n",
       "</div>"
      ],
      "text/plain": [
       "                            Importance\n",
       "h_last_5_avrg_pass_prog       0.076001\n",
       "h_last_5_touches              0.074723\n",
       "h_last_5_avrg_pass_att        0.073316\n",
       "h_last_5_avrg_cmp             0.071148\n",
       "h_last_5_avrg_carries_prog    0.062580\n",
       "a_last_5_avrg_pass_prog       0.056501\n",
       "a_last_5_avrg_cmp             0.051088\n",
       "a_last_5_avrg_npxg            0.050937\n",
       "h_last_5_avrg_carries         0.045387\n",
       "a_last_5_avrg_pass_att        0.045147\n",
       "h_last_5_avrg_sh              0.043972\n",
       "a_last_5_touches              0.041302\n",
       "h_last_5_avrg_xa              0.038090\n",
       "a_last_5_avrg_carries_prog    0.028692\n",
       "h_last_5_avrg_xg              0.026896\n",
       "h_last_5_avrg_sca             0.026746\n",
       "a_last_5_avrg_sot             0.026505\n",
       "a_last_5_avrg_carries         0.026398\n",
       "a_last_5_avrg_xg              0.025475\n",
       "a_last_5_avrg_xa              0.023189\n",
       "a_last_5_avrg_sca             0.016318\n",
       "a_last_5_avrg_sh              0.013846\n",
       "a_last_5_avrg_gls             0.013250\n",
       "h_last_5_avrg_npxg            0.011186\n",
       "h_last_5_avrg_sot             0.010323\n",
       "h_last_5_avrg_gls             0.009067\n",
       "a_last_5_avrg_gca             0.008716\n",
       "h_last_5_avrg_gca             0.003203"
      ]
     },
     "execution_count": 102,
     "metadata": {},
     "output_type": "execute_result"
    }
   ],
   "source": [
    "rf_impt_df = pd.DataFrame(index = X_test.columns, data = rf_impt_feature, columns = ['Importance']).sort_values('Importance',ascending=False)\n",
    "rf_impt_df"
   ]
  },
  {
   "cell_type": "code",
   "execution_count": 103,
   "metadata": {
    "scrolled": true
   },
   "outputs": [
    {
     "data": {
      "image/png": "[encoded data removed]",
      "text/plain": [
       "<Figure size 864x504 with 1 Axes>"
      ]
     },
     "metadata": {
      "needs_background": "light"
     },
     "output_type": "display_data"
    }
   ],
   "source": [
    "rf_impt_df.head(20).plot(kind='barh',figsize=(12,7),color='red',label=rf_impt_df.columns[:20])\n",
    "plt.title('Top 20 Feature Importance for Random Forest')\n",
    "plt.gca().invert_yaxis()\n",
    "plt.legend(loc=4);"
   ]
  },
  {
   "cell_type": "code",
   "execution_count": 104,
   "metadata": {},
   "outputs": [
    {
     "data": {
      "text/html": [
       "<div>\n",
       "<style scoped>\n",
       "    .dataframe tbody tr th:only-of-type {\n",
       "        vertical-align: middle;\n",
       "    }\n",
       "\n",
       "    .dataframe tbody tr th {\n",
       "        vertical-align: top;\n",
       "    }\n",
       "\n",
       "    .dataframe thead th {\n",
       "        text-align: right;\n",
       "    }\n",
       "</style>\n",
       "<table border=\"1\" class=\"dataframe\">\n",
       "  <thead>\n",
       "    <tr style=\"text-align: right;\">\n",
       "      <th></th>\n",
       "      <th>index</th>\n",
       "      <th>date</th>\n",
       "      <th>match</th>\n",
       "      <th>0</th>\n",
       "      <th>1</th>\n",
       "      <th>2</th>\n",
       "    </tr>\n",
       "  </thead>\n",
       "  <tbody>\n",
       "    <tr>\n",
       "      <th>0</th>\n",
       "      <td>1190</td>\n",
       "      <td>2020-10-24</td>\n",
       "      <td>Manchester_United_vs_Chelsea</td>\n",
       "      <td>0.407803</td>\n",
       "      <td>0.236012</td>\n",
       "      <td>0.356185</td>\n",
       "    </tr>\n",
       "    <tr>\n",
       "      <th>1</th>\n",
       "      <td>1191</td>\n",
       "      <td>2020-10-24</td>\n",
       "      <td>Fulham_vs_Crystal_Palace</td>\n",
       "      <td>0.526303</td>\n",
       "      <td>0.234297</td>\n",
       "      <td>0.239400</td>\n",
       "    </tr>\n",
       "    <tr>\n",
       "      <th>2</th>\n",
       "      <td>1192</td>\n",
       "      <td>2020-10-24</td>\n",
       "      <td>Liverpool_vs_Sheffield_United</td>\n",
       "      <td>0.829920</td>\n",
       "      <td>0.106506</td>\n",
       "      <td>0.063575</td>\n",
       "    </tr>\n",
       "    <tr>\n",
       "      <th>3</th>\n",
       "      <td>1193</td>\n",
       "      <td>2020-10-25</td>\n",
       "      <td>Arsenal_vs_Leicester_City</td>\n",
       "      <td>0.523574</td>\n",
       "      <td>0.224757</td>\n",
       "      <td>0.251669</td>\n",
       "    </tr>\n",
       "    <tr>\n",
       "      <th>4</th>\n",
       "      <td>1194</td>\n",
       "      <td>2020-10-25</td>\n",
       "      <td>Southampton_vs_Everton</td>\n",
       "      <td>0.293567</td>\n",
       "      <td>0.221171</td>\n",
       "      <td>0.485262</td>\n",
       "    </tr>\n",
       "  </tbody>\n",
       "</table>\n",
       "</div>"
      ],
      "text/plain": [
       "   index        date                          match         0         1  \\\n",
       "0   1190  2020-10-24   Manchester_United_vs_Chelsea  0.407803  0.236012   \n",
       "1   1191  2020-10-24       Fulham_vs_Crystal_Palace  0.526303  0.234297   \n",
       "2   1192  2020-10-24  Liverpool_vs_Sheffield_United  0.829920  0.106506   \n",
       "3   1193  2020-10-25      Arsenal_vs_Leicester_City  0.523574  0.224757   \n",
       "4   1194  2020-10-25         Southampton_vs_Everton  0.293567  0.221171   \n",
       "\n",
       "          2  \n",
       "0  0.356185  \n",
       "1  0.239400  \n",
       "2  0.063575  \n",
       "3  0.251669  \n",
       "4  0.485262  "
      ]
     },
     "execution_count": 104,
     "metadata": {},
     "output_type": "execute_result"
    }
   ],
   "source": [
    "rf_proba = rf.predict_proba(X_test_n)\n",
    "df_rf_prob = pd.DataFrame(rf_proba)\n",
    "rf_prob_pred = pd.merge(X_test_full[['date','match']].reset_index(),df_rf_prob,left_index=True,right_index=True)\n",
    "rf_prob_pred.head()"
   ]
  },
  {
   "cell_type": "code",
   "execution_count": 105,
   "metadata": {},
   "outputs": [],
   "source": [
    "# DOT data\n",
    "#dot_data = export_graphviz(rf.estimators_[0], out_file=None, \n",
    "#                                feature_names= X_train.columns,  \n",
    "#                                class_names=['0','1','2'],\n",
    "#                                filled=True)\n",
    "\n",
    "# Draw graph\n",
    "#graph = graphviz.Source(dot_data, format=\"png\") \n",
    "#graph"
   ]
  },
  {
   "cell_type": "code",
   "execution_count": 106,
   "metadata": {},
   "outputs": [],
   "source": [
    "# Append to the lists\n",
    "model_name.append('Random Forest')\n",
    "model_scores.append(rf.score(X_train_n, y_train))\n",
    "model_var.append(rf)\n",
    "model_test_scores.append(rf.score(X_test_n,y_test))"
   ]
  },
  {
   "cell_type": "markdown",
   "metadata": {},
   "source": [
    "## ExtraTrees Classifier"
   ]
  },
  {
   "cell_type": "code",
   "execution_count": 107,
   "metadata": {},
   "outputs": [
    {
     "name": "stdout",
     "output_type": "stream",
     "text": [
      "Fitting 5 folds for each of 24 candidates, totalling 120 fits\n"
     ]
    },
    {
     "name": "stderr",
     "output_type": "stream",
     "text": [
      "[Parallel(n_jobs=-1)]: Using backend LokyBackend with 12 concurrent workers.\n",
      "[Parallel(n_jobs=-1)]: Done  28 tasks      | elapsed:    0.4s\n",
      "[Parallel(n_jobs=-1)]: Done 120 out of 120 | elapsed:    1.4s finished\n"
     ]
    },
    {
     "data": {
      "text/plain": [
       "ExtraTreesClassifier(max_depth=5, min_samples_leaf=2, n_estimators=120)"
      ]
     },
     "execution_count": 107,
     "metadata": {},
     "output_type": "execute_result"
    }
   ],
   "source": [
    "et = ExtraTreesClassifier()\n",
    "\n",
    "# Hyperparameters\n",
    "et_params = {\n",
    "    'n_estimators': [80, 100, 120],\n",
    "    'max_depth': [3, 5],\n",
    "    'min_samples_leaf': [2, 4],\n",
    "    'min_samples_split' : [2, 4],\n",
    "}\n",
    "\n",
    "gs_et = GridSearchCV(et, param_grid = et_params, cv=5,n_jobs=-1,verbose=1,scoring='f1_macro')\n",
    "\n",
    "gs_et.fit(X_train_n, y_train)\n",
    "gs_et.best_estimator_"
   ]
  },
  {
   "cell_type": "code",
   "execution_count": 110,
   "metadata": {},
   "outputs": [
    {
     "data": {
      "text/plain": [
       "ExtraTreesClassifier(max_depth=5, min_samples_leaf=2, n_estimators=120)"
      ]
     },
     "execution_count": 110,
     "metadata": {},
     "output_type": "execute_result"
    }
   ],
   "source": [
    "et = ExtraTreesClassifier(max_depth=5, min_samples_leaf=2, n_estimators=120)\n",
    "et.fit(X_train_n, y_train)"
   ]
  },
  {
   "cell_type": "code",
   "execution_count": 111,
   "metadata": {},
   "outputs": [
    {
     "data": {
      "text/html": [
       "<div>\n",
       "<style scoped>\n",
       "    .dataframe tbody tr th:only-of-type {\n",
       "        vertical-align: middle;\n",
       "    }\n",
       "\n",
       "    .dataframe tbody tr th {\n",
       "        vertical-align: top;\n",
       "    }\n",
       "\n",
       "    .dataframe thead th {\n",
       "        text-align: right;\n",
       "    }\n",
       "</style>\n",
       "<table border=\"1\" class=\"dataframe\">\n",
       "  <thead>\n",
       "    <tr style=\"text-align: right;\">\n",
       "      <th></th>\n",
       "      <th>Importance</th>\n",
       "    </tr>\n",
       "  </thead>\n",
       "  <tbody>\n",
       "    <tr>\n",
       "      <th>h_last_5_avrg_pass_prog</th>\n",
       "      <td>0.066834</td>\n",
       "    </tr>\n",
       "    <tr>\n",
       "      <th>h_last_5_touches</th>\n",
       "      <td>0.064880</td>\n",
       "    </tr>\n",
       "    <tr>\n",
       "      <th>h_last_5_avrg_pass_att</th>\n",
       "      <td>0.062471</td>\n",
       "    </tr>\n",
       "    <tr>\n",
       "      <th>h_last_5_avrg_carries</th>\n",
       "      <td>0.062011</td>\n",
       "    </tr>\n",
       "    <tr>\n",
       "      <th>h_last_5_avrg_carries_prog</th>\n",
       "      <td>0.061857</td>\n",
       "    </tr>\n",
       "    <tr>\n",
       "      <th>a_last_5_avrg_xg</th>\n",
       "      <td>0.047643</td>\n",
       "    </tr>\n",
       "    <tr>\n",
       "      <th>h_last_5_avrg_cmp</th>\n",
       "      <td>0.043789</td>\n",
       "    </tr>\n",
       "    <tr>\n",
       "      <th>a_last_5_avrg_pass_att</th>\n",
       "      <td>0.042350</td>\n",
       "    </tr>\n",
       "    <tr>\n",
       "      <th>a_last_5_avrg_sot</th>\n",
       "      <td>0.042120</td>\n",
       "    </tr>\n",
       "    <tr>\n",
       "      <th>a_last_5_avrg_carries</th>\n",
       "      <td>0.040270</td>\n",
       "    </tr>\n",
       "    <tr>\n",
       "      <th>a_last_5_avrg_cmp</th>\n",
       "      <td>0.036260</td>\n",
       "    </tr>\n",
       "    <tr>\n",
       "      <th>a_last_5_avrg_pass_prog</th>\n",
       "      <td>0.033712</td>\n",
       "    </tr>\n",
       "    <tr>\n",
       "      <th>h_last_5_avrg_xg</th>\n",
       "      <td>0.033372</td>\n",
       "    </tr>\n",
       "    <tr>\n",
       "      <th>a_last_5_avrg_npxg</th>\n",
       "      <td>0.031527</td>\n",
       "    </tr>\n",
       "    <tr>\n",
       "      <th>h_last_5_avrg_xa</th>\n",
       "      <td>0.030894</td>\n",
       "    </tr>\n",
       "    <tr>\n",
       "      <th>h_last_5_avrg_sh</th>\n",
       "      <td>0.030885</td>\n",
       "    </tr>\n",
       "    <tr>\n",
       "      <th>h_last_5_avrg_sot</th>\n",
       "      <td>0.028769</td>\n",
       "    </tr>\n",
       "    <tr>\n",
       "      <th>h_last_5_avrg_sca</th>\n",
       "      <td>0.027501</td>\n",
       "    </tr>\n",
       "    <tr>\n",
       "      <th>a_last_5_avrg_gls</th>\n",
       "      <td>0.026695</td>\n",
       "    </tr>\n",
       "    <tr>\n",
       "      <th>a_last_5_touches</th>\n",
       "      <td>0.026479</td>\n",
       "    </tr>\n",
       "    <tr>\n",
       "      <th>a_last_5_avrg_gca</th>\n",
       "      <td>0.025865</td>\n",
       "    </tr>\n",
       "    <tr>\n",
       "      <th>a_last_5_avrg_sca</th>\n",
       "      <td>0.022483</td>\n",
       "    </tr>\n",
       "    <tr>\n",
       "      <th>h_last_5_avrg_npxg</th>\n",
       "      <td>0.021887</td>\n",
       "    </tr>\n",
       "    <tr>\n",
       "      <th>a_last_5_avrg_carries_prog</th>\n",
       "      <td>0.021585</td>\n",
       "    </tr>\n",
       "    <tr>\n",
       "      <th>a_last_5_avrg_xa</th>\n",
       "      <td>0.020979</td>\n",
       "    </tr>\n",
       "    <tr>\n",
       "      <th>a_last_5_avrg_sh</th>\n",
       "      <td>0.020483</td>\n",
       "    </tr>\n",
       "    <tr>\n",
       "      <th>h_last_5_avrg_gca</th>\n",
       "      <td>0.014253</td>\n",
       "    </tr>\n",
       "    <tr>\n",
       "      <th>h_last_5_avrg_gls</th>\n",
       "      <td>0.012144</td>\n",
       "    </tr>\n",
       "  </tbody>\n",
       "</table>\n",
       "</div>"
      ],
      "text/plain": [
       "                            Importance\n",
       "h_last_5_avrg_pass_prog       0.066834\n",
       "h_last_5_touches              0.064880\n",
       "h_last_5_avrg_pass_att        0.062471\n",
       "h_last_5_avrg_carries         0.062011\n",
       "h_last_5_avrg_carries_prog    0.061857\n",
       "a_last_5_avrg_xg              0.047643\n",
       "h_last_5_avrg_cmp             0.043789\n",
       "a_last_5_avrg_pass_att        0.042350\n",
       "a_last_5_avrg_sot             0.042120\n",
       "a_last_5_avrg_carries         0.040270\n",
       "a_last_5_avrg_cmp             0.036260\n",
       "a_last_5_avrg_pass_prog       0.033712\n",
       "h_last_5_avrg_xg              0.033372\n",
       "a_last_5_avrg_npxg            0.031527\n",
       "h_last_5_avrg_xa              0.030894\n",
       "h_last_5_avrg_sh              0.030885\n",
       "h_last_5_avrg_sot             0.028769\n",
       "h_last_5_avrg_sca             0.027501\n",
       "a_last_5_avrg_gls             0.026695\n",
       "a_last_5_touches              0.026479\n",
       "a_last_5_avrg_gca             0.025865\n",
       "a_last_5_avrg_sca             0.022483\n",
       "h_last_5_avrg_npxg            0.021887\n",
       "a_last_5_avrg_carries_prog    0.021585\n",
       "a_last_5_avrg_xa              0.020979\n",
       "a_last_5_avrg_sh              0.020483\n",
       "h_last_5_avrg_gca             0.014253\n",
       "h_last_5_avrg_gls             0.012144"
      ]
     },
     "execution_count": 111,
     "metadata": {},
     "output_type": "execute_result"
    }
   ],
   "source": [
    "et_preds = et.predict(X_test_n)\n",
    "et_impt_feature = et.feature_importances_\n",
    "et_impt_df = pd.DataFrame(index = X_test.columns, data = et_impt_feature, columns = ['Importance']).sort_values('Importance',ascending=False)\n",
    "et_impt_df"
   ]
  },
  {
   "cell_type": "code",
   "execution_count": 112,
   "metadata": {
    "scrolled": false
   },
   "outputs": [
    {
     "data": {
      "image/png": "[encoded data removed]",
      "text/plain": [
       "<Figure size 864x504 with 1 Axes>"
      ]
     },
     "metadata": {
      "needs_background": "light"
     },
     "output_type": "display_data"
    }
   ],
   "source": [
    "# Top 20 features\n",
    "et_impt_df.head(20).plot(kind='barh', label=et_impt_df.columns, figsize=(12,7), color='orange')\n",
    "plt.title('Top 20 Feature Importance for Extra Trees', fontsize=15)\n",
    "plt.gca().invert_yaxis()\n",
    "plt.legend(loc=4);"
   ]
  },
  {
   "cell_type": "code",
   "execution_count": 113,
   "metadata": {},
   "outputs": [
    {
     "data": {
      "text/html": [
       "<div>\n",
       "<style scoped>\n",
       "    .dataframe tbody tr th:only-of-type {\n",
       "        vertical-align: middle;\n",
       "    }\n",
       "\n",
       "    .dataframe tbody tr th {\n",
       "        vertical-align: top;\n",
       "    }\n",
       "\n",
       "    .dataframe thead th {\n",
       "        text-align: right;\n",
       "    }\n",
       "</style>\n",
       "<table border=\"1\" class=\"dataframe\">\n",
       "  <thead>\n",
       "    <tr style=\"text-align: right;\">\n",
       "      <th></th>\n",
       "      <th>index</th>\n",
       "      <th>date</th>\n",
       "      <th>match</th>\n",
       "      <th>0</th>\n",
       "      <th>1</th>\n",
       "      <th>2</th>\n",
       "    </tr>\n",
       "  </thead>\n",
       "  <tbody>\n",
       "    <tr>\n",
       "      <th>0</th>\n",
       "      <td>1190</td>\n",
       "      <td>2020-10-24</td>\n",
       "      <td>Manchester_United_vs_Chelsea</td>\n",
       "      <td>0.383574</td>\n",
       "      <td>0.217588</td>\n",
       "      <td>0.398838</td>\n",
       "    </tr>\n",
       "    <tr>\n",
       "      <th>1</th>\n",
       "      <td>1191</td>\n",
       "      <td>2020-10-24</td>\n",
       "      <td>Fulham_vs_Crystal_Palace</td>\n",
       "      <td>0.497423</td>\n",
       "      <td>0.243283</td>\n",
       "      <td>0.259295</td>\n",
       "    </tr>\n",
       "    <tr>\n",
       "      <th>2</th>\n",
       "      <td>1192</td>\n",
       "      <td>2020-10-24</td>\n",
       "      <td>Liverpool_vs_Sheffield_United</td>\n",
       "      <td>0.808718</td>\n",
       "      <td>0.129238</td>\n",
       "      <td>0.062044</td>\n",
       "    </tr>\n",
       "    <tr>\n",
       "      <th>3</th>\n",
       "      <td>1193</td>\n",
       "      <td>2020-10-25</td>\n",
       "      <td>Arsenal_vs_Leicester_City</td>\n",
       "      <td>0.498035</td>\n",
       "      <td>0.218005</td>\n",
       "      <td>0.283960</td>\n",
       "    </tr>\n",
       "    <tr>\n",
       "      <th>4</th>\n",
       "      <td>1194</td>\n",
       "      <td>2020-10-25</td>\n",
       "      <td>Southampton_vs_Everton</td>\n",
       "      <td>0.346593</td>\n",
       "      <td>0.215510</td>\n",
       "      <td>0.437897</td>\n",
       "    </tr>\n",
       "  </tbody>\n",
       "</table>\n",
       "</div>"
      ],
      "text/plain": [
       "   index        date                          match         0         1  \\\n",
       "0   1190  2020-10-24   Manchester_United_vs_Chelsea  0.383574  0.217588   \n",
       "1   1191  2020-10-24       Fulham_vs_Crystal_Palace  0.497423  0.243283   \n",
       "2   1192  2020-10-24  Liverpool_vs_Sheffield_United  0.808718  0.129238   \n",
       "3   1193  2020-10-25      Arsenal_vs_Leicester_City  0.498035  0.218005   \n",
       "4   1194  2020-10-25         Southampton_vs_Everton  0.346593  0.215510   \n",
       "\n",
       "          2  \n",
       "0  0.398838  \n",
       "1  0.259295  \n",
       "2  0.062044  \n",
       "3  0.283960  \n",
       "4  0.437897  "
      ]
     },
     "execution_count": 113,
     "metadata": {},
     "output_type": "execute_result"
    }
   ],
   "source": [
    "et_proba = et.predict_proba(X_test_n)\n",
    "df_et_prob = pd.DataFrame(et_proba)\n",
    "\n",
    "et_matches_prob = pd.merge(X_test_full[['date','match']].reset_index(),df_et_prob,left_index=True,right_index=True)\n",
    "et_matches_prob.head()"
   ]
  },
  {
   "cell_type": "code",
   "execution_count": 114,
   "metadata": {},
   "outputs": [],
   "source": [
    "# Append to the lists\n",
    "model_name.append('Extra Trees')\n",
    "model_scores.append(et.score(X_train_n, y_train))\n",
    "model_var.append(et)\n",
    "model_test_scores.append(et.score(X_test_n,y_test))"
   ]
  },
  {
   "cell_type": "code",
   "execution_count": null,
   "metadata": {},
   "outputs": [],
   "source": []
  },
  {
   "cell_type": "markdown",
   "metadata": {},
   "source": [
    "## AdaBoost Classifier"
   ]
  },
  {
   "cell_type": "code",
   "execution_count": 115,
   "metadata": {},
   "outputs": [
    {
     "name": "stdout",
     "output_type": "stream",
     "text": [
      "Fitting 5 folds for each of 12 candidates, totalling 60 fits\n"
     ]
    },
    {
     "name": "stderr",
     "output_type": "stream",
     "text": [
      "[Parallel(n_jobs=-1)]: Using backend LokyBackend with 12 concurrent workers.\n",
      "[Parallel(n_jobs=-1)]: Done  37 out of  60 | elapsed:    0.4s remaining:    0.2s\n",
      "[Parallel(n_jobs=-1)]: Done  60 out of  60 | elapsed:    0.6s finished\n"
     ]
    },
    {
     "data": {
      "text/plain": [
       "AdaBoostClassifier(learning_rate=0.9, random_state=42)"
      ]
     },
     "execution_count": 115,
     "metadata": {},
     "output_type": "execute_result"
    }
   ],
   "source": [
    "ada =  AdaBoostClassifier(random_state=42)\n",
    "\n",
    "# Hyperparameters\n",
    "ada_params = {\n",
    "    'n_estimators': [20, 30, 40, 50],\n",
    "    'learning_rate': [0.8, 0.9, 1]\n",
    "}\n",
    "\n",
    "gs_ada = GridSearchCV(ada, param_grid = ada_params, cv=5, n_jobs=-1,verbose=1,scoring='f1_macro')\n",
    "gs_ada.fit(X_train_n, y_train)\n",
    "gs_ada.best_estimator_"
   ]
  },
  {
   "cell_type": "code",
   "execution_count": 116,
   "metadata": {},
   "outputs": [],
   "source": [
    "#ada = AdaBoostClassifier(base_estimator=ExtraTreesClassifier())\n",
    "#ada_params = {\n",
    "#    'n_estimators': [50,100],\n",
    "#    'base_estimator__max_depth': [1,2],\n",
    "#    'learning_rate': [.9, 1.]\n",
    "#}"
   ]
  },
  {
   "cell_type": "code",
   "execution_count": 118,
   "metadata": {},
   "outputs": [
    {
     "data": {
      "text/plain": [
       "AdaBoostClassifier(learning_rate=0.9, random_state=42)"
      ]
     },
     "execution_count": 118,
     "metadata": {},
     "output_type": "execute_result"
    }
   ],
   "source": [
    "ada = AdaBoostClassifier(learning_rate=0.9, random_state=42)\n",
    "ada.fit(X_train_n, y_train)"
   ]
  },
  {
   "cell_type": "code",
   "execution_count": 119,
   "metadata": {},
   "outputs": [],
   "source": [
    "ada_preds = ada.predict(X_test_n)"
   ]
  },
  {
   "cell_type": "code",
   "execution_count": 120,
   "metadata": {},
   "outputs": [
    {
     "name": "stdout",
     "output_type": "stream",
     "text": [
      "0.5635123614663257\n",
      "0.5038167938931297\n"
     ]
    }
   ],
   "source": [
    "print(ada.score(X_train_n,y_train))\n",
    "print(ada.score(X_test_n,y_test))"
   ]
  },
  {
   "cell_type": "code",
   "execution_count": 121,
   "metadata": {
    "scrolled": true
   },
   "outputs": [
    {
     "data": {
      "text/html": [
       "<div>\n",
       "<style scoped>\n",
       "    .dataframe tbody tr th:only-of-type {\n",
       "        vertical-align: middle;\n",
       "    }\n",
       "\n",
       "    .dataframe tbody tr th {\n",
       "        vertical-align: top;\n",
       "    }\n",
       "\n",
       "    .dataframe thead th {\n",
       "        text-align: right;\n",
       "    }\n",
       "</style>\n",
       "<table border=\"1\" class=\"dataframe\">\n",
       "  <thead>\n",
       "    <tr style=\"text-align: right;\">\n",
       "      <th></th>\n",
       "      <th>Importance</th>\n",
       "    </tr>\n",
       "  </thead>\n",
       "  <tbody>\n",
       "    <tr>\n",
       "      <th>a_last_5_avrg_cmp</th>\n",
       "      <td>0.14</td>\n",
       "    </tr>\n",
       "    <tr>\n",
       "      <th>a_last_5_avrg_pass_prog</th>\n",
       "      <td>0.12</td>\n",
       "    </tr>\n",
       "    <tr>\n",
       "      <th>a_last_5_avrg_gls</th>\n",
       "      <td>0.06</td>\n",
       "    </tr>\n",
       "    <tr>\n",
       "      <th>h_last_5_avrg_sot</th>\n",
       "      <td>0.06</td>\n",
       "    </tr>\n",
       "    <tr>\n",
       "      <th>h_last_5_avrg_xg</th>\n",
       "      <td>0.06</td>\n",
       "    </tr>\n",
       "    <tr>\n",
       "      <th>h_last_5_avrg_pass_att</th>\n",
       "      <td>0.06</td>\n",
       "    </tr>\n",
       "    <tr>\n",
       "      <th>h_last_5_avrg_carries</th>\n",
       "      <td>0.04</td>\n",
       "    </tr>\n",
       "    <tr>\n",
       "      <th>a_last_5_avrg_gca</th>\n",
       "      <td>0.04</td>\n",
       "    </tr>\n",
       "    <tr>\n",
       "      <th>a_last_5_avrg_npxg</th>\n",
       "      <td>0.04</td>\n",
       "    </tr>\n",
       "    <tr>\n",
       "      <th>a_last_5_avrg_sh</th>\n",
       "      <td>0.04</td>\n",
       "    </tr>\n",
       "    <tr>\n",
       "      <th>h_last_5_avrg_carries_prog</th>\n",
       "      <td>0.04</td>\n",
       "    </tr>\n",
       "    <tr>\n",
       "      <th>a_last_5_avrg_carries_prog</th>\n",
       "      <td>0.04</td>\n",
       "    </tr>\n",
       "    <tr>\n",
       "      <th>h_last_5_avrg_sca</th>\n",
       "      <td>0.04</td>\n",
       "    </tr>\n",
       "    <tr>\n",
       "      <th>h_last_5_avrg_pass_prog</th>\n",
       "      <td>0.02</td>\n",
       "    </tr>\n",
       "    <tr>\n",
       "      <th>h_last_5_avrg_gca</th>\n",
       "      <td>0.02</td>\n",
       "    </tr>\n",
       "    <tr>\n",
       "      <th>a_last_5_avrg_sot</th>\n",
       "      <td>0.02</td>\n",
       "    </tr>\n",
       "    <tr>\n",
       "      <th>a_last_5_touches</th>\n",
       "      <td>0.02</td>\n",
       "    </tr>\n",
       "    <tr>\n",
       "      <th>a_last_5_avrg_xg</th>\n",
       "      <td>0.02</td>\n",
       "    </tr>\n",
       "    <tr>\n",
       "      <th>a_last_5_avrg_xa</th>\n",
       "      <td>0.02</td>\n",
       "    </tr>\n",
       "    <tr>\n",
       "      <th>a_last_5_avrg_sca</th>\n",
       "      <td>0.02</td>\n",
       "    </tr>\n",
       "    <tr>\n",
       "      <th>h_last_5_avrg_xa</th>\n",
       "      <td>0.02</td>\n",
       "    </tr>\n",
       "    <tr>\n",
       "      <th>h_last_5_touches</th>\n",
       "      <td>0.02</td>\n",
       "    </tr>\n",
       "    <tr>\n",
       "      <th>a_last_5_avrg_carries</th>\n",
       "      <td>0.02</td>\n",
       "    </tr>\n",
       "    <tr>\n",
       "      <th>h_last_5_avrg_gls</th>\n",
       "      <td>0.02</td>\n",
       "    </tr>\n",
       "    <tr>\n",
       "      <th>h_last_5_avrg_cmp</th>\n",
       "      <td>0.00</td>\n",
       "    </tr>\n",
       "    <tr>\n",
       "      <th>h_last_5_avrg_sh</th>\n",
       "      <td>0.00</td>\n",
       "    </tr>\n",
       "    <tr>\n",
       "      <th>h_last_5_avrg_npxg</th>\n",
       "      <td>0.00</td>\n",
       "    </tr>\n",
       "    <tr>\n",
       "      <th>a_last_5_avrg_pass_att</th>\n",
       "      <td>0.00</td>\n",
       "    </tr>\n",
       "  </tbody>\n",
       "</table>\n",
       "</div>"
      ],
      "text/plain": [
       "                            Importance\n",
       "a_last_5_avrg_cmp                 0.14\n",
       "a_last_5_avrg_pass_prog           0.12\n",
       "a_last_5_avrg_gls                 0.06\n",
       "h_last_5_avrg_sot                 0.06\n",
       "h_last_5_avrg_xg                  0.06\n",
       "h_last_5_avrg_pass_att            0.06\n",
       "h_last_5_avrg_carries             0.04\n",
       "a_last_5_avrg_gca                 0.04\n",
       "a_last_5_avrg_npxg                0.04\n",
       "a_last_5_avrg_sh                  0.04\n",
       "h_last_5_avrg_carries_prog        0.04\n",
       "a_last_5_avrg_carries_prog        0.04\n",
       "h_last_5_avrg_sca                 0.04\n",
       "h_last_5_avrg_pass_prog           0.02\n",
       "h_last_5_avrg_gca                 0.02\n",
       "a_last_5_avrg_sot                 0.02\n",
       "a_last_5_touches                  0.02\n",
       "a_last_5_avrg_xg                  0.02\n",
       "a_last_5_avrg_xa                  0.02\n",
       "a_last_5_avrg_sca                 0.02\n",
       "h_last_5_avrg_xa                  0.02\n",
       "h_last_5_touches                  0.02\n",
       "a_last_5_avrg_carries             0.02\n",
       "h_last_5_avrg_gls                 0.02\n",
       "h_last_5_avrg_cmp                 0.00\n",
       "h_last_5_avrg_sh                  0.00\n",
       "h_last_5_avrg_npxg                0.00\n",
       "a_last_5_avrg_pass_att            0.00"
      ]
     },
     "execution_count": 121,
     "metadata": {},
     "output_type": "execute_result"
    }
   ],
   "source": [
    "ada_impt_feature = ada.feature_importances_\n",
    "ada_impt_df = pd.DataFrame(index = X_test.columns, data = ada_impt_feature, columns = ['Importance']).sort_values('Importance',ascending=False)\n",
    "ada_impt_df"
   ]
  },
  {
   "cell_type": "code",
   "execution_count": 122,
   "metadata": {
    "scrolled": false
   },
   "outputs": [
    {
     "data": {
      "image/png": "[encoded data removed]",
      "text/plain": [
       "<Figure size 864x504 with 1 Axes>"
      ]
     },
     "metadata": {
      "needs_background": "light"
     },
     "output_type": "display_data"
    }
   ],
   "source": [
    "ada_impt_df.head(20).plot(kind='barh', label=ada_impt_df.columns[:20], figsize=(12,7), color='cyan')\n",
    "plt.title('Top 20 Feature Importance for AdaBoost', fontsize=15)\n",
    "plt.gca().invert_yaxis()"
   ]
  },
  {
   "cell_type": "code",
   "execution_count": 123,
   "metadata": {},
   "outputs": [
    {
     "data": {
      "text/html": [
       "<div>\n",
       "<style scoped>\n",
       "    .dataframe tbody tr th:only-of-type {\n",
       "        vertical-align: middle;\n",
       "    }\n",
       "\n",
       "    .dataframe tbody tr th {\n",
       "        vertical-align: top;\n",
       "    }\n",
       "\n",
       "    .dataframe thead th {\n",
       "        text-align: right;\n",
       "    }\n",
       "</style>\n",
       "<table border=\"1\" class=\"dataframe\">\n",
       "  <thead>\n",
       "    <tr style=\"text-align: right;\">\n",
       "      <th></th>\n",
       "      <th>index</th>\n",
       "      <th>date</th>\n",
       "      <th>match</th>\n",
       "      <th>0</th>\n",
       "      <th>1</th>\n",
       "      <th>2</th>\n",
       "    </tr>\n",
       "  </thead>\n",
       "  <tbody>\n",
       "    <tr>\n",
       "      <th>0</th>\n",
       "      <td>1190</td>\n",
       "      <td>2020-10-24</td>\n",
       "      <td>Manchester_United_vs_Chelsea</td>\n",
       "      <td>0.559235</td>\n",
       "      <td>0.085441</td>\n",
       "      <td>0.355324</td>\n",
       "    </tr>\n",
       "    <tr>\n",
       "      <th>1</th>\n",
       "      <td>1191</td>\n",
       "      <td>2020-10-24</td>\n",
       "      <td>Fulham_vs_Crystal_Palace</td>\n",
       "      <td>0.558937</td>\n",
       "      <td>0.086929</td>\n",
       "      <td>0.354134</td>\n",
       "    </tr>\n",
       "    <tr>\n",
       "      <th>2</th>\n",
       "      <td>1192</td>\n",
       "      <td>2020-10-24</td>\n",
       "      <td>Liverpool_vs_Sheffield_United</td>\n",
       "      <td>0.513732</td>\n",
       "      <td>0.162583</td>\n",
       "      <td>0.323685</td>\n",
       "    </tr>\n",
       "    <tr>\n",
       "      <th>3</th>\n",
       "      <td>1193</td>\n",
       "      <td>2020-10-25</td>\n",
       "      <td>Arsenal_vs_Leicester_City</td>\n",
       "      <td>0.558937</td>\n",
       "      <td>0.086929</td>\n",
       "      <td>0.354134</td>\n",
       "    </tr>\n",
       "    <tr>\n",
       "      <th>4</th>\n",
       "      <td>1194</td>\n",
       "      <td>2020-10-25</td>\n",
       "      <td>Southampton_vs_Everton</td>\n",
       "      <td>0.559235</td>\n",
       "      <td>0.085441</td>\n",
       "      <td>0.355324</td>\n",
       "    </tr>\n",
       "  </tbody>\n",
       "</table>\n",
       "</div>"
      ],
      "text/plain": [
       "   index        date                          match         0         1  \\\n",
       "0   1190  2020-10-24   Manchester_United_vs_Chelsea  0.559235  0.085441   \n",
       "1   1191  2020-10-24       Fulham_vs_Crystal_Palace  0.558937  0.086929   \n",
       "2   1192  2020-10-24  Liverpool_vs_Sheffield_United  0.513732  0.162583   \n",
       "3   1193  2020-10-25      Arsenal_vs_Leicester_City  0.558937  0.086929   \n",
       "4   1194  2020-10-25         Southampton_vs_Everton  0.559235  0.085441   \n",
       "\n",
       "          2  \n",
       "0  0.355324  \n",
       "1  0.354134  \n",
       "2  0.323685  \n",
       "3  0.354134  \n",
       "4  0.355324  "
      ]
     },
     "execution_count": 123,
     "metadata": {},
     "output_type": "execute_result"
    }
   ],
   "source": [
    "ada_proba = ada.predict_proba(X_test)\n",
    "df_ada_prob = pd.DataFrame(ada_proba)\n",
    "\n",
    "ada_matches_prob = pd.merge(X_test_full[['date','match']].reset_index(),df_ada_prob,left_index=True,right_index=True)\n",
    "ada_matches_prob.head()"
   ]
  },
  {
   "cell_type": "code",
   "execution_count": 124,
   "metadata": {},
   "outputs": [],
   "source": [
    "# Append to the lists\n",
    "model_name.append('AdaBoost')\n",
    "model_scores.append(ada.score(X_train_n, y_train))\n",
    "model_var.append(ada)\n",
    "model_test_scores.append(ada.score(X_test_n,y_test))"
   ]
  },
  {
   "cell_type": "markdown",
   "metadata": {},
   "source": [
    "## Gradient Boost Classifier"
   ]
  },
  {
   "cell_type": "code",
   "execution_count": 125,
   "metadata": {},
   "outputs": [
    {
     "name": "stdout",
     "output_type": "stream",
     "text": [
      "Fitting 5 folds for each of 48 candidates, totalling 240 fits\n"
     ]
    },
    {
     "name": "stderr",
     "output_type": "stream",
     "text": [
      "[Parallel(n_jobs=-1)]: Using backend LokyBackend with 12 concurrent workers.\n",
      "[Parallel(n_jobs=-1)]: Done  26 tasks      | elapsed:    1.7s\n",
      "[Parallel(n_jobs=-1)]: Done 176 tasks      | elapsed:   16.1s\n",
      "[Parallel(n_jobs=-1)]: Done 240 out of 240 | elapsed:   25.9s finished\n"
     ]
    },
    {
     "data": {
      "text/plain": [
       "GridSearchCV(cv=5, estimator=GradientBoostingClassifier(), n_jobs=-1,\n",
       "             param_grid={'max_depth': [1, 2, 3], 'min_samples_leaf': [1, 2],\n",
       "                         'min_samples_split': [2, 4],\n",
       "                         'n_estimators': [80, 100, 120, 150]},\n",
       "             scoring='f1_macro', verbose=1)"
      ]
     },
     "execution_count": 125,
     "metadata": {},
     "output_type": "execute_result"
    }
   ],
   "source": [
    "gboost = GradientBoostingClassifier()\n",
    "\n",
    "gboost_params = {\n",
    "    'n_estimators': [80, 100, 120, 150],\n",
    "    'max_depth': [1, 2, 3],\n",
    "    'min_samples_split': [2, 4],\n",
    "    'min_samples_leaf': [1, 2]}\n",
    "    \n",
    "    \n",
    "gs_gboost = GridSearchCV(gboost, param_grid = gboost_params, cv=5,n_jobs=-1,verbose=1,scoring='f1_macro')\n",
    "    \n",
    "gs_gboost.fit(X_train_n, y_train)"
   ]
  },
  {
   "cell_type": "code",
   "execution_count": 126,
   "metadata": {
    "scrolled": true
   },
   "outputs": [
    {
     "data": {
      "text/plain": [
       "GradientBoostingClassifier()"
      ]
     },
     "execution_count": 126,
     "metadata": {},
     "output_type": "execute_result"
    }
   ],
   "source": [
    "gs_gboost.best_estimator_"
   ]
  },
  {
   "cell_type": "code",
   "execution_count": 127,
   "metadata": {},
   "outputs": [
    {
     "data": {
      "text/plain": [
       "GradientBoostingClassifier()"
      ]
     },
     "execution_count": 127,
     "metadata": {},
     "output_type": "execute_result"
    }
   ],
   "source": [
    "gboost = GradientBoostingClassifier()\n",
    "gboost.fit(X_train_n, y_train)"
   ]
  },
  {
   "cell_type": "code",
   "execution_count": 128,
   "metadata": {},
   "outputs": [],
   "source": [
    "gboost_preds = gboost.predict(X_test_n)"
   ]
  },
  {
   "cell_type": "code",
   "execution_count": 129,
   "metadata": {},
   "outputs": [
    {
     "data": {
      "text/html": [
       "<div>\n",
       "<style scoped>\n",
       "    .dataframe tbody tr th:only-of-type {\n",
       "        vertical-align: middle;\n",
       "    }\n",
       "\n",
       "    .dataframe tbody tr th {\n",
       "        vertical-align: top;\n",
       "    }\n",
       "\n",
       "    .dataframe thead th {\n",
       "        text-align: right;\n",
       "    }\n",
       "</style>\n",
       "<table border=\"1\" class=\"dataframe\">\n",
       "  <thead>\n",
       "    <tr style=\"text-align: right;\">\n",
       "      <th></th>\n",
       "      <th>weights</th>\n",
       "    </tr>\n",
       "  </thead>\n",
       "  <tbody>\n",
       "    <tr>\n",
       "      <th>h_last_5_avrg_pass_prog</th>\n",
       "      <td>0.063741</td>\n",
       "    </tr>\n",
       "    <tr>\n",
       "      <th>h_last_5_avrg_cmp</th>\n",
       "      <td>0.063238</td>\n",
       "    </tr>\n",
       "    <tr>\n",
       "      <th>h_last_5_avrg_pass_att</th>\n",
       "      <td>0.062110</td>\n",
       "    </tr>\n",
       "    <tr>\n",
       "      <th>a_last_5_avrg_pass_prog</th>\n",
       "      <td>0.055826</td>\n",
       "    </tr>\n",
       "    <tr>\n",
       "      <th>a_last_5_avrg_sot</th>\n",
       "      <td>0.048807</td>\n",
       "    </tr>\n",
       "  </tbody>\n",
       "</table>\n",
       "</div>"
      ],
      "text/plain": [
       "                          weights\n",
       "h_last_5_avrg_pass_prog  0.063741\n",
       "h_last_5_avrg_cmp        0.063238\n",
       "h_last_5_avrg_pass_att   0.062110\n",
       "a_last_5_avrg_pass_prog  0.055826\n",
       "a_last_5_avrg_sot        0.048807"
      ]
     },
     "execution_count": 129,
     "metadata": {},
     "output_type": "execute_result"
    }
   ],
   "source": [
    "imp_gboost = pd.DataFrame(gboost.feature_importances_,index=X_test.columns,columns=['weights']).sort_values(by='weights', ascending=False)\n",
    "imp_gboost.head()"
   ]
  },
  {
   "cell_type": "code",
   "execution_count": 130,
   "metadata": {
    "scrolled": false
   },
   "outputs": [
    {
     "data": {
      "image/png": "[encoded data removed]",
      "text/plain": [
       "<Figure size 864x504 with 1 Axes>"
      ]
     },
     "metadata": {
      "needs_background": "light"
     },
     "output_type": "display_data"
    }
   ],
   "source": [
    "# Plot in bar chart\n",
    "imp_gboost.head(20).plot(kind='barh', label=imp_gboost.columns[:20], figsize=(12,7), color='green')\n",
    "plt.title('Top 20 Feature Importance for Gradient Boost', fontsize=15)\n",
    "plt.gca().invert_yaxis()\n",
    "plt.legend(loc=4);"
   ]
  },
  {
   "cell_type": "code",
   "execution_count": 131,
   "metadata": {},
   "outputs": [
    {
     "data": {
      "text/html": [
       "<div>\n",
       "<style scoped>\n",
       "    .dataframe tbody tr th:only-of-type {\n",
       "        vertical-align: middle;\n",
       "    }\n",
       "\n",
       "    .dataframe tbody tr th {\n",
       "        vertical-align: top;\n",
       "    }\n",
       "\n",
       "    .dataframe thead th {\n",
       "        text-align: right;\n",
       "    }\n",
       "</style>\n",
       "<table border=\"1\" class=\"dataframe\">\n",
       "  <thead>\n",
       "    <tr style=\"text-align: right;\">\n",
       "      <th></th>\n",
       "      <th>index</th>\n",
       "      <th>date</th>\n",
       "      <th>match</th>\n",
       "      <th>0</th>\n",
       "      <th>1</th>\n",
       "      <th>2</th>\n",
       "    </tr>\n",
       "  </thead>\n",
       "  <tbody>\n",
       "    <tr>\n",
       "      <th>0</th>\n",
       "      <td>1190</td>\n",
       "      <td>2020-10-24</td>\n",
       "      <td>Manchester_United_vs_Chelsea</td>\n",
       "      <td>0.406390</td>\n",
       "      <td>0.108945</td>\n",
       "      <td>0.484665</td>\n",
       "    </tr>\n",
       "    <tr>\n",
       "      <th>1</th>\n",
       "      <td>1191</td>\n",
       "      <td>2020-10-24</td>\n",
       "      <td>Fulham_vs_Crystal_Palace</td>\n",
       "      <td>0.791160</td>\n",
       "      <td>0.065602</td>\n",
       "      <td>0.143238</td>\n",
       "    </tr>\n",
       "    <tr>\n",
       "      <th>2</th>\n",
       "      <td>1192</td>\n",
       "      <td>2020-10-24</td>\n",
       "      <td>Liverpool_vs_Sheffield_United</td>\n",
       "      <td>0.903448</td>\n",
       "      <td>0.070788</td>\n",
       "      <td>0.025765</td>\n",
       "    </tr>\n",
       "    <tr>\n",
       "      <th>3</th>\n",
       "      <td>1193</td>\n",
       "      <td>2020-10-25</td>\n",
       "      <td>Arsenal_vs_Leicester_City</td>\n",
       "      <td>0.692039</td>\n",
       "      <td>0.221432</td>\n",
       "      <td>0.086528</td>\n",
       "    </tr>\n",
       "    <tr>\n",
       "      <th>4</th>\n",
       "      <td>1194</td>\n",
       "      <td>2020-10-25</td>\n",
       "      <td>Southampton_vs_Everton</td>\n",
       "      <td>0.268506</td>\n",
       "      <td>0.119973</td>\n",
       "      <td>0.611520</td>\n",
       "    </tr>\n",
       "  </tbody>\n",
       "</table>\n",
       "</div>"
      ],
      "text/plain": [
       "   index        date                          match         0         1  \\\n",
       "0   1190  2020-10-24   Manchester_United_vs_Chelsea  0.406390  0.108945   \n",
       "1   1191  2020-10-24       Fulham_vs_Crystal_Palace  0.791160  0.065602   \n",
       "2   1192  2020-10-24  Liverpool_vs_Sheffield_United  0.903448  0.070788   \n",
       "3   1193  2020-10-25      Arsenal_vs_Leicester_City  0.692039  0.221432   \n",
       "4   1194  2020-10-25         Southampton_vs_Everton  0.268506  0.119973   \n",
       "\n",
       "          2  \n",
       "0  0.484665  \n",
       "1  0.143238  \n",
       "2  0.025765  \n",
       "3  0.086528  \n",
       "4  0.611520  "
      ]
     },
     "execution_count": 131,
     "metadata": {},
     "output_type": "execute_result"
    }
   ],
   "source": [
    "gboost_proba = gboost.predict_proba(X_test_n)\n",
    "df_gboost_prob = pd.DataFrame(gboost_proba)\n",
    "\n",
    "gboost_matches_prob = pd.merge(X_test_full[['date','match']].reset_index(),df_gboost_prob,left_index=True,right_index=True)\n",
    "gboost_matches_prob.head()"
   ]
  },
  {
   "cell_type": "code",
   "execution_count": 132,
   "metadata": {},
   "outputs": [],
   "source": [
    "# Append to the lists\n",
    "model_name.append('GradientBoosting')\n",
    "model_scores.append(gboost.score(X_train_n, y_train))\n",
    "model_var.append(gboost)\n",
    "model_test_scores.append(gboost.score(X_test_n, y_test))"
   ]
  },
  {
   "cell_type": "markdown",
   "metadata": {},
   "source": [
    "## Support Vector Classifier"
   ]
  },
  {
   "cell_type": "code",
   "execution_count": 133,
   "metadata": {},
   "outputs": [
    {
     "name": "stdout",
     "output_type": "stream",
     "text": [
      "Fitting 5 folds for each of 8 candidates, totalling 40 fits\n"
     ]
    },
    {
     "name": "stderr",
     "output_type": "stream",
     "text": [
      "[Parallel(n_jobs=-1)]: Using backend LokyBackend with 12 concurrent workers.\n",
      "[Parallel(n_jobs=-1)]: Done  40 out of  40 | elapsed:    0.4s finished\n"
     ]
    },
    {
     "data": {
      "text/plain": [
       "SVC(C=1, kernel='poly')"
      ]
     },
     "execution_count": 133,
     "metadata": {},
     "output_type": "execute_result"
    }
   ],
   "source": [
    "svc = SVC()\n",
    "\n",
    "# Hyperparameters\n",
    "svc_params = {\n",
    "    'C': [1, 0.1],\n",
    "    'kernel': ['rbf', 'poly'],\n",
    "    'degree': [2, 3]\n",
    "}\n",
    "\n",
    "gs_svc = GridSearchCV(svc, param_grid = svc_params, cv=5,n_jobs=-1, verbose=1,scoring='f1_macro')\n",
    "gs_svc.fit(X_train_n, y_train)\n",
    "gs_svc.best_estimator_"
   ]
  },
  {
   "cell_type": "code",
   "execution_count": 137,
   "metadata": {},
   "outputs": [
    {
     "data": {
      "text/plain": [
       "SVC(C=1, kernel='poly', probability=True)"
      ]
     },
     "execution_count": 137,
     "metadata": {},
     "output_type": "execute_result"
    }
   ],
   "source": [
    "svc = SVC(C=1,kernel='poly',probability=True)\n",
    "svc.fit(X_train_n, y_train)"
   ]
  },
  {
   "cell_type": "code",
   "execution_count": 138,
   "metadata": {},
   "outputs": [],
   "source": [
    "svc_preds = svc.predict(X_test_n)"
   ]
  },
  {
   "cell_type": "code",
   "execution_count": 139,
   "metadata": {},
   "outputs": [],
   "source": [
    "model_name.append('Support Vector Classifier')\n",
    "model_scores.append(svc.score(X_train_n, y_train))\n",
    "model_var.append(svc)\n",
    "model_test_scores.append(svc.score(X_test_n,y_test))"
   ]
  },
  {
   "cell_type": "code",
   "execution_count": 140,
   "metadata": {},
   "outputs": [
    {
     "data": {
      "text/html": [
       "<div>\n",
       "<style scoped>\n",
       "    .dataframe tbody tr th:only-of-type {\n",
       "        vertical-align: middle;\n",
       "    }\n",
       "\n",
       "    .dataframe tbody tr th {\n",
       "        vertical-align: top;\n",
       "    }\n",
       "\n",
       "    .dataframe thead th {\n",
       "        text-align: right;\n",
       "    }\n",
       "</style>\n",
       "<table border=\"1\" class=\"dataframe\">\n",
       "  <thead>\n",
       "    <tr style=\"text-align: right;\">\n",
       "      <th></th>\n",
       "      <th>index</th>\n",
       "      <th>date</th>\n",
       "      <th>match</th>\n",
       "      <th>0</th>\n",
       "      <th>1</th>\n",
       "      <th>2</th>\n",
       "    </tr>\n",
       "  </thead>\n",
       "  <tbody>\n",
       "    <tr>\n",
       "      <th>0</th>\n",
       "      <td>1190</td>\n",
       "      <td>2020-10-24</td>\n",
       "      <td>Manchester_United_vs_Chelsea</td>\n",
       "      <td>0.230251</td>\n",
       "      <td>0.318268</td>\n",
       "      <td>0.451480</td>\n",
       "    </tr>\n",
       "    <tr>\n",
       "      <th>1</th>\n",
       "      <td>1191</td>\n",
       "      <td>2020-10-24</td>\n",
       "      <td>Fulham_vs_Crystal_Palace</td>\n",
       "      <td>0.500375</td>\n",
       "      <td>0.238610</td>\n",
       "      <td>0.261015</td>\n",
       "    </tr>\n",
       "    <tr>\n",
       "      <th>2</th>\n",
       "      <td>1192</td>\n",
       "      <td>2020-10-24</td>\n",
       "      <td>Liverpool_vs_Sheffield_United</td>\n",
       "      <td>0.657378</td>\n",
       "      <td>0.240332</td>\n",
       "      <td>0.102290</td>\n",
       "    </tr>\n",
       "    <tr>\n",
       "      <th>3</th>\n",
       "      <td>1193</td>\n",
       "      <td>2020-10-25</td>\n",
       "      <td>Arsenal_vs_Leicester_City</td>\n",
       "      <td>0.344014</td>\n",
       "      <td>0.256931</td>\n",
       "      <td>0.399054</td>\n",
       "    </tr>\n",
       "    <tr>\n",
       "      <th>4</th>\n",
       "      <td>1194</td>\n",
       "      <td>2020-10-25</td>\n",
       "      <td>Southampton_vs_Everton</td>\n",
       "      <td>0.400843</td>\n",
       "      <td>0.205279</td>\n",
       "      <td>0.393878</td>\n",
       "    </tr>\n",
       "  </tbody>\n",
       "</table>\n",
       "</div>"
      ],
      "text/plain": [
       "   index        date                          match         0         1  \\\n",
       "0   1190  2020-10-24   Manchester_United_vs_Chelsea  0.230251  0.318268   \n",
       "1   1191  2020-10-24       Fulham_vs_Crystal_Palace  0.500375  0.238610   \n",
       "2   1192  2020-10-24  Liverpool_vs_Sheffield_United  0.657378  0.240332   \n",
       "3   1193  2020-10-25      Arsenal_vs_Leicester_City  0.344014  0.256931   \n",
       "4   1194  2020-10-25         Southampton_vs_Everton  0.400843  0.205279   \n",
       "\n",
       "          2  \n",
       "0  0.451480  \n",
       "1  0.261015  \n",
       "2  0.102290  \n",
       "3  0.399054  \n",
       "4  0.393878  "
      ]
     },
     "execution_count": 140,
     "metadata": {},
     "output_type": "execute_result"
    }
   ],
   "source": [
    "svc_proba = svc.predict_proba(X_test_n)\n",
    "df_svc_prob = pd.DataFrame(svc_proba)\n",
    "\n",
    "svc_matches_prob = pd.merge(X_test_full[['date','match']].reset_index(),df_svc_prob,left_index=True,right_index=True)\n",
    "svc_matches_prob.head()"
   ]
  },
  {
   "cell_type": "code",
   "execution_count": null,
   "metadata": {},
   "outputs": [],
   "source": []
  },
  {
   "cell_type": "code",
   "execution_count": null,
   "metadata": {},
   "outputs": [],
   "source": []
  },
  {
   "cell_type": "markdown",
   "metadata": {},
   "source": [
    "## Neural Networks"
   ]
  },
  {
   "cell_type": "code",
   "execution_count": 141,
   "metadata": {},
   "outputs": [],
   "source": [
    "from tensorflow.keras import regularizers\n",
    "from tensorflow.keras.models import Sequential\n",
    "from tensorflow.keras.layers import Dense, Dropout, GRU\n",
    "from tensorflow.keras.optimizers import Adam\n",
    "from tensorflow.keras.utils import to_categorical\n",
    "from tensorflow.keras import metrics"
   ]
  },
  {
   "cell_type": "code",
   "execution_count": 142,
   "metadata": {},
   "outputs": [],
   "source": [
    "#y_cat = to_categorical(y)\n",
    "#y_cat[:5]"
   ]
  },
  {
   "cell_type": "code",
   "execution_count": 143,
   "metadata": {},
   "outputs": [],
   "source": [
    "#X_train_full, X_test_full, y_train, y_test = train_test_split(X, y_cat, test_size=0.3,random_state=42,stratify=y)"
   ]
  },
  {
   "cell_type": "code",
   "execution_count": 144,
   "metadata": {},
   "outputs": [],
   "source": [
    "#X_train.shape[1]"
   ]
  },
  {
   "cell_type": "code",
   "execution_count": 145,
   "metadata": {},
   "outputs": [],
   "source": [
    "#nn = Sequential()\n",
    "\n",
    "#nn.add(Dense(X_train_n.shape[1], activation='relu', input_dim=X_train_n.shape[1]))\n",
    "\n",
    "#nn.add(Dense(90, activation='relu'))\n",
    "#nn.add(Dense(60, activation='relu'))\n",
    "#nn.add(Dense(30, activation='relu'))\n",
    "#nn.add(Dense(15, activation='relu'))\n",
    "#nn.add(Dense(1, activation='sigmoid')) \n",
    "\n",
    "#nn.compile(optimizer=Adam(learning_rate=0.005), loss='binary_crossentropy', metrics=['accuracy'])"
   ]
  },
  {
   "cell_type": "code",
   "execution_count": 146,
   "metadata": {},
   "outputs": [],
   "source": [
    "#nn.summary()"
   ]
  },
  {
   "cell_type": "code",
   "execution_count": null,
   "metadata": {
    "scrolled": false
   },
   "outputs": [],
   "source": [
    "#history = nn.fit(X_train_n, y_train, batch_size=32, validation_data=(X_test_n,y_test), epochs=100, validation_split=0.2, shuffle=True)"
   ]
  },
  {
   "cell_type": "code",
   "execution_count": null,
   "metadata": {},
   "outputs": [],
   "source": []
  },
  {
   "cell_type": "code",
   "execution_count": null,
   "metadata": {},
   "outputs": [],
   "source": [
    "#plt.plot(history.history['loss'], label='Train loss')\n",
    "#plt.plot(history.history['val_loss'], label='Val Loss')\n",
    "#plt.legend();"
   ]
  },
  {
   "cell_type": "code",
   "execution_count": null,
   "metadata": {},
   "outputs": [],
   "source": [
    "#y_pred=np.round(nn.predict(X_test_n))"
   ]
  },
  {
   "cell_type": "code",
   "execution_count": null,
   "metadata": {
    "scrolled": true
   },
   "outputs": [],
   "source": [
    "#nn_proba = nn.predict_proba(X_test_n)\n",
    "#df_nn_prob = pd.DataFrame(nn_proba)\n",
    "\n",
    "#nn_matches_prob = pd.merge(X_test_full[['date','home','away']].reset_index(),df_nn_prob,left_index=True,right_index=True)\n",
    "#nn_matches_prob.head()"
   ]
  },
  {
   "cell_type": "code",
   "execution_count": null,
   "metadata": {},
   "outputs": [],
   "source": [
    "#plt.title('Accuracy')\n",
    "#plt.plot(history.history['accuracy'], label='train')\n",
    "#plt.plot(history.history['val_accuracy'], label='test')\n",
    "#plt.legend()\n",
    "#plt.show()"
   ]
  },
  {
   "cell_type": "code",
   "execution_count": null,
   "metadata": {},
   "outputs": [],
   "source": []
  },
  {
   "cell_type": "code",
   "execution_count": null,
   "metadata": {},
   "outputs": [],
   "source": []
  },
  {
   "cell_type": "code",
   "execution_count": null,
   "metadata": {},
   "outputs": [],
   "source": []
  },
  {
   "cell_type": "code",
   "execution_count": null,
   "metadata": {},
   "outputs": [],
   "source": []
  },
  {
   "cell_type": "code",
   "execution_count": null,
   "metadata": {},
   "outputs": [],
   "source": []
  },
  {
   "cell_type": "markdown",
   "metadata": {},
   "source": [
    "## XGB Classifier"
   ]
  },
  {
   "cell_type": "code",
   "execution_count": 147,
   "metadata": {},
   "outputs": [
    {
     "name": "stdout",
     "output_type": "stream",
     "text": [
      "[21:36:18] WARNING: C:/Users/Administrator/workspace/xgboost-win64_release_1.3.0/src/learner.cc:1061: Starting in XGBoost 1.3.0, the default evaluation metric used with the objective 'multi:softprob' was changed from 'merror' to 'mlogloss'. Explicitly set eval_metric if you'd like to restore the old behavior.\n"
     ]
    },
    {
     "data": {
      "text/plain": [
       "XGBClassifier(base_score=0.5, booster='gbtree', colsample_bylevel=1,\n",
       "              colsample_bynode=1, colsample_bytree=1, gamma=0, gpu_id=-1,\n",
       "              importance_type='gain', interaction_constraints='',\n",
       "              learning_rate=0.300000012, max_delta_step=0, max_depth=6,\n",
       "              min_child_weight=1, missing=nan, monotone_constraints='()',\n",
       "              n_estimators=100, n_jobs=12, num_parallel_tree=1,\n",
       "              objective='multi:softprob', random_state=0, reg_alpha=0,\n",
       "              reg_lambda=1, scale_pos_weight=None, subsample=1,\n",
       "              tree_method='exact', validate_parameters=1, verbosity=None)"
      ]
     },
     "execution_count": 147,
     "metadata": {},
     "output_type": "execute_result"
    }
   ],
   "source": [
    "xgb = XGBClassifier()\n",
    "xgb.fit(X_train_n, y_train)"
   ]
  },
  {
   "cell_type": "code",
   "execution_count": 148,
   "metadata": {},
   "outputs": [
    {
     "data": {
      "text/plain": [
       "0.4580152671755725"
      ]
     },
     "execution_count": 148,
     "metadata": {},
     "output_type": "execute_result"
    }
   ],
   "source": [
    "xgb_preds = xgb.predict(X_test_n)\n",
    "accuracy = accuracy_score(y_test,xgb_preds)\n",
    "accuracy"
   ]
  },
  {
   "cell_type": "code",
   "execution_count": 149,
   "metadata": {},
   "outputs": [
    {
     "data": {
      "text/html": [
       "<div>\n",
       "<style scoped>\n",
       "    .dataframe tbody tr th:only-of-type {\n",
       "        vertical-align: middle;\n",
       "    }\n",
       "\n",
       "    .dataframe tbody tr th {\n",
       "        vertical-align: top;\n",
       "    }\n",
       "\n",
       "    .dataframe thead th {\n",
       "        text-align: right;\n",
       "    }\n",
       "</style>\n",
       "<table border=\"1\" class=\"dataframe\">\n",
       "  <thead>\n",
       "    <tr style=\"text-align: right;\">\n",
       "      <th></th>\n",
       "      <th>index</th>\n",
       "      <th>date</th>\n",
       "      <th>match</th>\n",
       "      <th>0</th>\n",
       "      <th>1</th>\n",
       "      <th>2</th>\n",
       "    </tr>\n",
       "  </thead>\n",
       "  <tbody>\n",
       "    <tr>\n",
       "      <th>0</th>\n",
       "      <td>1190</td>\n",
       "      <td>2020-10-24</td>\n",
       "      <td>Manchester_United_vs_Chelsea</td>\n",
       "      <td>0.062388</td>\n",
       "      <td>0.006296</td>\n",
       "      <td>0.931316</td>\n",
       "    </tr>\n",
       "    <tr>\n",
       "      <th>1</th>\n",
       "      <td>1191</td>\n",
       "      <td>2020-10-24</td>\n",
       "      <td>Fulham_vs_Crystal_Palace</td>\n",
       "      <td>0.983412</td>\n",
       "      <td>0.012172</td>\n",
       "      <td>0.004416</td>\n",
       "    </tr>\n",
       "    <tr>\n",
       "      <th>2</th>\n",
       "      <td>1192</td>\n",
       "      <td>2020-10-24</td>\n",
       "      <td>Liverpool_vs_Sheffield_United</td>\n",
       "      <td>0.984482</td>\n",
       "      <td>0.011186</td>\n",
       "      <td>0.004332</td>\n",
       "    </tr>\n",
       "    <tr>\n",
       "      <th>3</th>\n",
       "      <td>1193</td>\n",
       "      <td>2020-10-25</td>\n",
       "      <td>Arsenal_vs_Leicester_City</td>\n",
       "      <td>0.956053</td>\n",
       "      <td>0.023294</td>\n",
       "      <td>0.020654</td>\n",
       "    </tr>\n",
       "    <tr>\n",
       "      <th>4</th>\n",
       "      <td>1194</td>\n",
       "      <td>2020-10-25</td>\n",
       "      <td>Southampton_vs_Everton</td>\n",
       "      <td>0.287387</td>\n",
       "      <td>0.041994</td>\n",
       "      <td>0.670619</td>\n",
       "    </tr>\n",
       "  </tbody>\n",
       "</table>\n",
       "</div>"
      ],
      "text/plain": [
       "   index        date                          match         0         1  \\\n",
       "0   1190  2020-10-24   Manchester_United_vs_Chelsea  0.062388  0.006296   \n",
       "1   1191  2020-10-24       Fulham_vs_Crystal_Palace  0.983412  0.012172   \n",
       "2   1192  2020-10-24  Liverpool_vs_Sheffield_United  0.984482  0.011186   \n",
       "3   1193  2020-10-25      Arsenal_vs_Leicester_City  0.956053  0.023294   \n",
       "4   1194  2020-10-25         Southampton_vs_Everton  0.287387  0.041994   \n",
       "\n",
       "          2  \n",
       "0  0.931316  \n",
       "1  0.004416  \n",
       "2  0.004332  \n",
       "3  0.020654  \n",
       "4  0.670619  "
      ]
     },
     "execution_count": 149,
     "metadata": {},
     "output_type": "execute_result"
    }
   ],
   "source": [
    "xgb_proba = xgb.predict_proba(X_test_n)\n",
    "df_xgb_prob = pd.DataFrame(xgb_proba)\n",
    "\n",
    "xgb_matches_prob = pd.merge(X_test_full[['date','match']].reset_index(),df_xgb_prob,left_index=True,right_index=True)\n",
    "\n",
    "xgb_matches_prob.head()"
   ]
  },
  {
   "cell_type": "code",
   "execution_count": 150,
   "metadata": {},
   "outputs": [],
   "source": [
    "# Append to the lists\n",
    "model_name.append('XGB Classifier')\n",
    "model_scores.append(xgb.score(X_train_n, y_train))\n",
    "model_var.append(xgb)\n",
    "model_test_scores.append(xgb.score(X_test_n,y_test))"
   ]
  },
  {
   "cell_type": "code",
   "execution_count": null,
   "metadata": {},
   "outputs": [],
   "source": []
  },
  {
   "cell_type": "code",
   "execution_count": null,
   "metadata": {},
   "outputs": [],
   "source": []
  },
  {
   "cell_type": "code",
   "execution_count": null,
   "metadata": {},
   "outputs": [],
   "source": []
  },
  {
   "cell_type": "code",
   "execution_count": null,
   "metadata": {},
   "outputs": [],
   "source": []
  },
  {
   "cell_type": "markdown",
   "metadata": {},
   "source": [
    "## Model Evaluation & Selection"
   ]
  },
  {
   "cell_type": "code",
   "execution_count": 151,
   "metadata": {},
   "outputs": [
    {
     "data": {
      "text/plain": [
       "[LogisticRegression(),\n",
       " RandomForestClassifier(max_depth=5, min_samples_leaf=2, n_estimators=80),\n",
       " ExtraTreesClassifier(max_depth=5, min_samples_leaf=2, min_samples_split=4),\n",
       " AdaBoostClassifier(learning_rate=1, n_estimators=40, random_state=42),\n",
       " RandomForestClassifier(max_depth=3, min_samples_leaf=2),\n",
       " ExtraTreesClassifier(max_depth=5, min_samples_leaf=2, n_estimators=120),\n",
       " AdaBoostClassifier(learning_rate=0.9, random_state=42),\n",
       " GradientBoostingClassifier(),\n",
       " SVC(C=1, degree=2, probability=True),\n",
       " SVC(C=1, kernel='poly', probability=True),\n",
       " XGBClassifier(base_score=0.5, booster='gbtree', colsample_bylevel=1,\n",
       "               colsample_bynode=1, colsample_bytree=1, gamma=0, gpu_id=-1,\n",
       "               importance_type='gain', interaction_constraints='',\n",
       "               learning_rate=0.300000012, max_delta_step=0, max_depth=6,\n",
       "               min_child_weight=1, missing=nan, monotone_constraints='()',\n",
       "               n_estimators=100, n_jobs=12, num_parallel_tree=1,\n",
       "               objective='multi:softprob', random_state=0, reg_alpha=0,\n",
       "               reg_lambda=1, scale_pos_weight=None, subsample=1,\n",
       "               tree_method='exact', validate_parameters=1, verbosity=None)]"
      ]
     },
     "execution_count": 151,
     "metadata": {},
     "output_type": "execute_result"
    }
   ],
   "source": [
    "model_var"
   ]
  },
  {
   "cell_type": "code",
   "execution_count": 152,
   "metadata": {},
   "outputs": [],
   "source": [
    "# View the evaluation metrics for all models in a dataframe\n",
    "# Sorted by highest F1-Score\n",
    "precision_list = []\n",
    "recall_list = []\n",
    "fscore_list = []\n",
    "auc_list_train = []\n",
    "auc_list_test = []\n",
    "for model in model_var:\n",
    "    y_pred = model.predict(X_test_n)\n",
    "    y_pred_train = model.predict(X_train_n)\n",
    "    precision, recall, fscore, support = precision_recall_fscore_support(y_test, y_pred,average = 'macro')\n",
    "    precision_list.append(precision)\n",
    "    recall_list.append(recall)\n",
    "    fscore_list.append(fscore)\n"
   ]
  },
  {
   "cell_type": "code",
   "execution_count": 153,
   "metadata": {},
   "outputs": [
    {
     "data": {
      "text/html": [
       "<div>\n",
       "<style scoped>\n",
       "    .dataframe tbody tr th:only-of-type {\n",
       "        vertical-align: middle;\n",
       "    }\n",
       "\n",
       "    .dataframe tbody tr th {\n",
       "        vertical-align: top;\n",
       "    }\n",
       "\n",
       "    .dataframe thead th {\n",
       "        text-align: right;\n",
       "    }\n",
       "</style>\n",
       "<table border=\"1\" class=\"dataframe\">\n",
       "  <thead>\n",
       "    <tr style=\"text-align: right;\">\n",
       "      <th></th>\n",
       "      <th>Model Type</th>\n",
       "      <th>F1-Score</th>\n",
       "      <th>Recall</th>\n",
       "      <th>Precision</th>\n",
       "      <th>Train Accuracy</th>\n",
       "      <th>Test Accuracy</th>\n",
       "    </tr>\n",
       "  </thead>\n",
       "  <tbody>\n",
       "    <tr>\n",
       "      <th>0</th>\n",
       "      <td>Logistic Regression</td>\n",
       "      <td>0.374099</td>\n",
       "      <td>0.435897</td>\n",
       "      <td>0.345513</td>\n",
       "      <td>0.526002</td>\n",
       "      <td>0.496183</td>\n",
       "    </tr>\n",
       "    <tr>\n",
       "      <th>1</th>\n",
       "      <td>Random Forest</td>\n",
       "      <td>0.376342</td>\n",
       "      <td>0.440635</td>\n",
       "      <td>0.360522</td>\n",
       "      <td>0.592498</td>\n",
       "      <td>0.503817</td>\n",
       "    </tr>\n",
       "    <tr>\n",
       "      <th>2</th>\n",
       "      <td>Extra Trees</td>\n",
       "      <td>0.351449</td>\n",
       "      <td>0.413322</td>\n",
       "      <td>0.338178</td>\n",
       "      <td>0.556692</td>\n",
       "      <td>0.473282</td>\n",
       "    </tr>\n",
       "    <tr>\n",
       "      <th>3</th>\n",
       "      <td>AdaBoost</td>\n",
       "      <td>0.339916</td>\n",
       "      <td>0.366913</td>\n",
       "      <td>0.344974</td>\n",
       "      <td>0.582268</td>\n",
       "      <td>0.412214</td>\n",
       "    </tr>\n",
       "    <tr>\n",
       "      <th>4</th>\n",
       "      <td>Random Forest</td>\n",
       "      <td>0.351449</td>\n",
       "      <td>0.413322</td>\n",
       "      <td>0.338178</td>\n",
       "      <td>0.547315</td>\n",
       "      <td>0.473282</td>\n",
       "    </tr>\n",
       "    <tr>\n",
       "      <th>5</th>\n",
       "      <td>Extra Trees</td>\n",
       "      <td>0.363535</td>\n",
       "      <td>0.426979</td>\n",
       "      <td>0.347281</td>\n",
       "      <td>0.554987</td>\n",
       "      <td>0.488550</td>\n",
       "    </tr>\n",
       "    <tr>\n",
       "      <th>6</th>\n",
       "      <td>AdaBoost</td>\n",
       "      <td>0.413239</td>\n",
       "      <td>0.449689</td>\n",
       "      <td>0.452604</td>\n",
       "      <td>0.563512</td>\n",
       "      <td>0.503817</td>\n",
       "    </tr>\n",
       "    <tr>\n",
       "      <th>7</th>\n",
       "      <td>GradientBoosting</td>\n",
       "      <td>0.400001</td>\n",
       "      <td>0.426413</td>\n",
       "      <td>0.454153</td>\n",
       "      <td>0.863598</td>\n",
       "      <td>0.473282</td>\n",
       "    </tr>\n",
       "    <tr>\n",
       "      <th>8</th>\n",
       "      <td>Support Vector Classifier</td>\n",
       "      <td>0.331511</td>\n",
       "      <td>0.397993</td>\n",
       "      <td>0.318710</td>\n",
       "      <td>0.555840</td>\n",
       "      <td>0.458015</td>\n",
       "    </tr>\n",
       "    <tr>\n",
       "      <th>9</th>\n",
       "      <td>Support Vector Classifier</td>\n",
       "      <td>0.352498</td>\n",
       "      <td>0.400848</td>\n",
       "      <td>0.416738</td>\n",
       "      <td>0.601876</td>\n",
       "      <td>0.458015</td>\n",
       "    </tr>\n",
       "    <tr>\n",
       "      <th>10</th>\n",
       "      <td>XGB Classifier</td>\n",
       "      <td>0.405253</td>\n",
       "      <td>0.420138</td>\n",
       "      <td>0.432843</td>\n",
       "      <td>1.000000</td>\n",
       "      <td>0.458015</td>\n",
       "    </tr>\n",
       "  </tbody>\n",
       "</table>\n",
       "</div>"
      ],
      "text/plain": [
       "                   Model Type  F1-Score    Recall  Precision  Train Accuracy  \\\n",
       "0         Logistic Regression  0.374099  0.435897   0.345513        0.526002   \n",
       "1               Random Forest  0.376342  0.440635   0.360522        0.592498   \n",
       "2                 Extra Trees  0.351449  0.413322   0.338178        0.556692   \n",
       "3                    AdaBoost  0.339916  0.366913   0.344974        0.582268   \n",
       "4               Random Forest  0.351449  0.413322   0.338178        0.547315   \n",
       "5                 Extra Trees  0.363535  0.426979   0.347281        0.554987   \n",
       "6                    AdaBoost  0.413239  0.449689   0.452604        0.563512   \n",
       "7            GradientBoosting  0.400001  0.426413   0.454153        0.863598   \n",
       "8   Support Vector Classifier  0.331511  0.397993   0.318710        0.555840   \n",
       "9   Support Vector Classifier  0.352498  0.400848   0.416738        0.601876   \n",
       "10             XGB Classifier  0.405253  0.420138   0.432843        1.000000   \n",
       "\n",
       "    Test Accuracy  \n",
       "0        0.496183  \n",
       "1        0.503817  \n",
       "2        0.473282  \n",
       "3        0.412214  \n",
       "4        0.473282  \n",
       "5        0.488550  \n",
       "6        0.503817  \n",
       "7        0.473282  \n",
       "8        0.458015  \n",
       "9        0.458015  \n",
       "10       0.458015  "
      ]
     },
     "execution_count": 153,
     "metadata": {},
     "output_type": "execute_result"
    }
   ],
   "source": [
    "pd.DataFrame({'Model Type': model_name,\n",
    "              'F1-Score': fscore_list,\n",
    "             'Recall': recall_list,\n",
    "              'Precision': precision_list,\n",
    "              'Train Accuracy': model_scores,\n",
    "             'Test Accuracy': model_test_scores})"
   ]
  },
  {
   "cell_type": "markdown",
   "metadata": {},
   "source": [
    "1 - True positives: data points labeled as positive that are actually positive\n",
    "\n",
    "2 - False positives: data points labeled as positive that are actually negative\n",
    "\n",
    "3 - True negatives: data points labeled as negative that are actually negative\n",
    "\n",
    "4 - False negatives: data points labeled as negative that are actually positive\n",
    "\n",
    "1 - Recall: ability of a classification model to identify all relevant instances\n",
    "\n",
    "2 - Precision: ability of a classification model to return only relevant instances\n",
    "\n",
    "3 - F1 score: single metric that combines recall and precision using the harmonic mean\n"
   ]
  },
  {
   "cell_type": "code",
   "execution_count": 83,
   "metadata": {},
   "outputs": [
    {
     "name": "stdout",
     "output_type": "stream",
     "text": [
      "\u001b[1m\n",
      "Logistic Regression Classification Report\n",
      "\u001b[0m\n",
      "              precision    recall  f1-score   support\n",
      "\n",
      "        Home       0.46      0.81      0.59        52\n",
      "        Draw       0.00      0.00      0.00        33\n",
      "        Away       0.57      0.50      0.53        46\n",
      "\n",
      "    accuracy                           0.50       131\n",
      "   macro avg       0.35      0.44      0.37       131\n",
      "weighted avg       0.39      0.50      0.42       131\n",
      "\n",
      "\u001b[1m\n",
      " Random Forest Classification Report\n",
      "\u001b[0m\n",
      "              precision    recall  f1-score   support\n",
      "\n",
      "        Home       0.46      0.87      0.60        52\n",
      "        Draw       0.00      0.00      0.00        33\n",
      "        Away       0.62      0.46      0.52        46\n",
      "\n",
      "    accuracy                           0.50       131\n",
      "   macro avg       0.36      0.44      0.38       131\n",
      "weighted avg       0.40      0.50      0.42       131\n",
      "\n",
      "\u001b[1m\n",
      "Extra Trees Classification Report\n",
      "\u001b[0m\n",
      "              precision    recall  f1-score   support\n",
      "\n",
      "        Home       0.44      0.83      0.57        52\n",
      "        Draw       0.00      0.00      0.00        33\n",
      "        Away       0.58      0.41      0.48        46\n",
      "\n",
      "    accuracy                           0.47       131\n",
      "   macro avg       0.34      0.41      0.35       131\n",
      "weighted avg       0.38      0.47      0.40       131\n",
      "\n",
      "\u001b[1m\n",
      "Ada Boost Classification Report\n",
      "\u001b[0m\n",
      "              precision    recall  f1-score   support\n",
      "\n",
      "        Home       0.44      0.69      0.54        52\n",
      "        Draw       0.13      0.06      0.08        33\n",
      "        Away       0.46      0.35      0.40        46\n",
      "\n",
      "    accuracy                           0.41       131\n",
      "   macro avg       0.34      0.37      0.34       131\n",
      "weighted avg       0.37      0.41      0.37       131\n",
      "\n",
      "\u001b[1m\n",
      "Gradient Classification Report\n",
      "\u001b[0m\n",
      "              precision    recall  f1-score   support\n",
      "\n",
      "        Home       0.47      0.79      0.59        52\n",
      "        Draw       0.22      0.06      0.10        33\n",
      "        Away       0.46      0.35      0.40        46\n",
      "\n",
      "    accuracy                           0.45       131\n",
      "   macro avg       0.38      0.40      0.36       131\n",
      "weighted avg       0.40      0.45      0.40       131\n",
      "\n",
      "\u001b[1m\n",
      "Support Vector Classification Report\n",
      "\u001b[0m\n"
     ]
    },
    {
     "ename": "NameError",
     "evalue": "name 'svc_preds' is not defined",
     "output_type": "error",
     "traceback": [
      "\u001b[1;31m---------------------------------------------------------------------------\u001b[0m",
      "\u001b[1;31mNameError\u001b[0m                                 Traceback (most recent call last)",
      "\u001b[1;32m<ipython-input-83-c505aa8aac38>\u001b[0m in \u001b[0;36m<module>\u001b[1;34m\u001b[0m\n\u001b[0;32m     15\u001b[0m \u001b[1;33m\u001b[0m\u001b[0m\n\u001b[0;32m     16\u001b[0m \u001b[0mprint\u001b[0m\u001b[1;33m(\u001b[0m\u001b[0mcolor\u001b[0m\u001b[1;33m.\u001b[0m\u001b[0mBOLD\u001b[0m\u001b[1;33m+\u001b[0m\u001b[1;34m'\\nSupport Vector Classification Report\\n'\u001b[0m\u001b[1;33m+\u001b[0m\u001b[0mcolor\u001b[0m\u001b[1;33m.\u001b[0m\u001b[0mEND\u001b[0m\u001b[1;33m)\u001b[0m\u001b[1;33m\u001b[0m\u001b[1;33m\u001b[0m\u001b[0m\n\u001b[1;32m---> 17\u001b[1;33m \u001b[0mprint\u001b[0m\u001b[1;33m(\u001b[0m\u001b[0mclassification_report\u001b[0m\u001b[1;33m(\u001b[0m\u001b[0my_test\u001b[0m\u001b[1;33m,\u001b[0m \u001b[0msvc_preds\u001b[0m\u001b[1;33m,\u001b[0m \u001b[0mtarget_names\u001b[0m\u001b[1;33m=\u001b[0m\u001b[1;33m[\u001b[0m\u001b[1;34m'Home'\u001b[0m\u001b[1;33m,\u001b[0m \u001b[1;34m'Draw'\u001b[0m\u001b[1;33m,\u001b[0m \u001b[1;34m'Away'\u001b[0m\u001b[1;33m]\u001b[0m\u001b[1;33m)\u001b[0m\u001b[1;33m)\u001b[0m\u001b[1;33m\u001b[0m\u001b[1;33m\u001b[0m\u001b[0m\n\u001b[0m\u001b[0;32m     18\u001b[0m \u001b[1;33m\u001b[0m\u001b[0m\n\u001b[0;32m     19\u001b[0m \u001b[0mprint\u001b[0m\u001b[1;33m(\u001b[0m\u001b[0mcolor\u001b[0m\u001b[1;33m.\u001b[0m\u001b[0mBOLD\u001b[0m\u001b[1;33m+\u001b[0m\u001b[1;34m'\\nXGBoost Classification Report\\n'\u001b[0m\u001b[1;33m+\u001b[0m\u001b[0mcolor\u001b[0m\u001b[1;33m.\u001b[0m\u001b[0mEND\u001b[0m\u001b[1;33m)\u001b[0m\u001b[1;33m\u001b[0m\u001b[1;33m\u001b[0m\u001b[0m\n",
      "\u001b[1;31mNameError\u001b[0m: name 'svc_preds' is not defined"
     ]
    }
   ],
   "source": [
    "print(color.BOLD+'\\nLogistic Regression Classification Report\\n'+color.END)\n",
    "print(classification_report(y_test, lr_preds, target_names=['Home', 'Draw', 'Away']))\n",
    "\n",
    "print(color.BOLD+'\\n Random Forest Classification Report\\n'+color.END)\n",
    "print(classification_report(y_test, rf_preds, target_names=['Home', 'Draw', 'Away']))\n",
    "\n",
    "print(color.BOLD+'\\nExtra Trees Classification Report\\n'+color.END)\n",
    "print(classification_report(y_test, et_preds, target_names=['Home', 'Draw', 'Away']))\n",
    "\n",
    "print(color.BOLD+'\\nAda Boost Classification Report\\n'+color.END)\n",
    "print(classification_report(y_test, ada_preds, target_names=['Home', 'Draw', 'Away']))\n",
    "\n",
    "print(color.BOLD+'\\nGradient Classification Report\\n'+color.END)\n",
    "print(classification_report(y_test, gboost_preds, target_names=['Home', 'Draw', 'Away']))\n",
    "\n",
    "print(color.BOLD+'\\nSupport Vector Classification Report\\n'+color.END)\n",
    "print(classification_report(y_test, svc_preds, target_names=['Home', 'Draw', 'Away']))\n",
    "\n",
    "print(color.BOLD+'\\nXGBoost Classification Report\\n'+color.END)\n",
    "print(classification_report(y_test, xgb_preds, target_names=['Home', 'Draw', 'Away']))"
   ]
  },
  {
   "cell_type": "code",
   "execution_count": 154,
   "metadata": {},
   "outputs": [],
   "source": [
    "#Plotting of confusion Matrix\n",
    "def subplot_confusion_matrix(model_list, model_name, X_test_n, y_test):\n",
    "    nrows = int(np.ceil(len(model_list)/3))   # Ensure have enough rows\n",
    "    fig, ax = plt.subplots(nrows=nrows, ncols=3, figsize=(14, nrows*4))   \n",
    "    plt.subplots_adjust(hspace = 0.4)\n",
    "    ax = ax.ravel()   # Ravel turns a matrix into a vector, which is easier to iterate\n",
    "    for i, model in enumerate(model_list):   # Gives us an index value to get into all our lists\n",
    "        plot_confusion_matrix(model, X_test_n, y_test, cmap='Blues', values_format='d', ax=ax[i])\n",
    "        ax[i].set_title(model_name[i])\n",
    "    \n",
    "        # display scale and label only on the left edge\n",
    "        if i%3 != 0:\n",
    "            ax[i].set_ylabel('')\n",
    "            ax[i].set_yticklabels('')\n",
    "    # This code below is to switch off the axes if there is an odd number of subplots\n",
    "    for axes in ax.flat[len(model_list):]:\n",
    "        axes.axis('off')\n",
    "    fig.tight_layout()\n",
    "    pass"
   ]
  },
  {
   "cell_type": "code",
   "execution_count": 155,
   "metadata": {},
   "outputs": [
    {
     "data": {
      "image/png": "[encoded data removed]",
      "text/plain": [
       "<Figure size 1008x1152 with 23 Axes>"
      ]
     },
     "metadata": {
      "needs_background": "light"
     },
     "output_type": "display_data"
    }
   ],
   "source": [
    "subplot_confusion_matrix(model_var, model_name, X_test_n, y_test)"
   ]
  },
  {
   "cell_type": "code",
   "execution_count": 86,
   "metadata": {},
   "outputs": [
    {
     "data": {
      "text/plain": [
       "(2, 31)"
      ]
     },
     "execution_count": 86,
     "metadata": {},
     "output_type": "execute_result"
    }
   ],
   "source": [
    "test_matches.shape"
   ]
  },
  {
   "cell_type": "code",
   "execution_count": 88,
   "metadata": {},
   "outputs": [],
   "source": [
    "test_matches_1 = test_matches.drop(columns = ['result','match','date'])"
   ]
  },
  {
   "cell_type": "code",
   "execution_count": 89,
   "metadata": {},
   "outputs": [],
   "source": [
    "test_matches_1 = normalizing.transform(test_matches_1)"
   ]
  },
  {
   "cell_type": "code",
   "execution_count": 90,
   "metadata": {},
   "outputs": [
    {
     "data": {
      "text/plain": [
       "(2, 28)"
      ]
     },
     "execution_count": 90,
     "metadata": {},
     "output_type": "execute_result"
    }
   ],
   "source": [
    "test_matches_1.shape"
   ]
  },
  {
   "cell_type": "code",
   "execution_count": 91,
   "metadata": {},
   "outputs": [
    {
     "data": {
      "text/plain": [
       "array([0, 2], dtype=int64)"
      ]
     },
     "execution_count": 91,
     "metadata": {},
     "output_type": "execute_result"
    }
   ],
   "source": [
    "#Log regression prediction\n",
    "lr.predict(test_matches_1)"
   ]
  },
  {
   "cell_type": "code",
   "execution_count": 92,
   "metadata": {},
   "outputs": [],
   "source": [
    "lr_test_proba = lr.predict_proba(test_matches_1)\n",
    "df_lr_prob_test = pd.DataFrame(lr_test_proba)"
   ]
  },
  {
   "cell_type": "code",
   "execution_count": 93,
   "metadata": {},
   "outputs": [
    {
     "data": {
      "text/html": [
       "<div>\n",
       "<style scoped>\n",
       "    .dataframe tbody tr th:only-of-type {\n",
       "        vertical-align: middle;\n",
       "    }\n",
       "\n",
       "    .dataframe tbody tr th {\n",
       "        vertical-align: top;\n",
       "    }\n",
       "\n",
       "    .dataframe thead th {\n",
       "        text-align: right;\n",
       "    }\n",
       "</style>\n",
       "<table border=\"1\" class=\"dataframe\">\n",
       "  <thead>\n",
       "    <tr style=\"text-align: right;\">\n",
       "      <th></th>\n",
       "      <th>index</th>\n",
       "      <th>date</th>\n",
       "      <th>match</th>\n",
       "      <th>0</th>\n",
       "      <th>1</th>\n",
       "      <th>2</th>\n",
       "    </tr>\n",
       "  </thead>\n",
       "  <tbody>\n",
       "    <tr>\n",
       "      <th>0</th>\n",
       "      <td>1321</td>\n",
       "      <td>2021-01-20</td>\n",
       "      <td>Manchester_City_vs_Aston_Villa</td>\n",
       "      <td>0.609137</td>\n",
       "      <td>0.209895</td>\n",
       "      <td>0.180967</td>\n",
       "    </tr>\n",
       "    <tr>\n",
       "      <th>1</th>\n",
       "      <td>1322</td>\n",
       "      <td>2021-01-20</td>\n",
       "      <td>Fulham_vs_Manchester_United</td>\n",
       "      <td>0.317773</td>\n",
       "      <td>0.222614</td>\n",
       "      <td>0.459612</td>\n",
       "    </tr>\n",
       "  </tbody>\n",
       "</table>\n",
       "</div>"
      ],
      "text/plain": [
       "   index        date                           match         0         1  \\\n",
       "0   1321  2021-01-20  Manchester_City_vs_Aston_Villa  0.609137  0.209895   \n",
       "1   1322  2021-01-20     Fulham_vs_Manchester_United  0.317773  0.222614   \n",
       "\n",
       "          2  \n",
       "0  0.180967  \n",
       "1  0.459612  "
      ]
     },
     "execution_count": 93,
     "metadata": {},
     "output_type": "execute_result"
    }
   ],
   "source": [
    "test_prob = pd.merge(test_matches[['date','match']].reset_index(),df_lr_prob_test,left_index=True,right_index=True)\n",
    "test_prob"
   ]
  },
  {
   "cell_type": "code",
   "execution_count": null,
   "metadata": {},
   "outputs": [],
   "source": [
    "rf.predict(test_matches_1)"
   ]
  },
  {
   "cell_type": "code",
   "execution_count": null,
   "metadata": {},
   "outputs": [],
   "source": [
    "rf_test_proba = rf.predict_proba(test_matches_1)\n",
    "df_rf_prob_test = pd.DataFrame(rf_test_proba)"
   ]
  },
  {
   "cell_type": "code",
   "execution_count": null,
   "metadata": {},
   "outputs": [],
   "source": [
    "rf_test_prob = pd.merge(test_matches[['date','home','away']].reset_index(),df_rf_prob_test,left_index=True,right_index=True)\n",
    "rf_test_prob"
   ]
  },
  {
   "cell_type": "code",
   "execution_count": null,
   "metadata": {},
   "outputs": [],
   "source": [
    "et_test_proba = et.predict_proba(test_matches_1)\n",
    "df_et_prob_test = pd.DataFrame(et_test_proba)"
   ]
  },
  {
   "cell_type": "code",
   "execution_count": null,
   "metadata": {},
   "outputs": [],
   "source": [
    "et_test_prob = pd.merge(test_matches[['date','home','away']].reset_index(),df_et_prob_test,left_index=True,right_index=True)\n",
    "et_test_prob"
   ]
  },
  {
   "cell_type": "code",
   "execution_count": null,
   "metadata": {},
   "outputs": [],
   "source": [
    "ada_test_proba = ada.predict_proba(test_matches_1)\n",
    "df_ada_prob_test = pd.DataFrame(ada_test_proba)\n",
    "ada_test_prob = pd.merge(test_matches[['date','home','away']].reset_index(),df_ada_prob_test,left_index=True,right_index=True)\n",
    "ada_test_prob\n"
   ]
  },
  {
   "cell_type": "code",
   "execution_count": null,
   "metadata": {},
   "outputs": [],
   "source": [
    "gboost_test_proba = gboost.predict_proba(test_matches_1)\n",
    "df_gboost_prob_test = pd.DataFrame(gboost_test_proba)\n",
    "gboost_test_prob = pd.merge(test_matches[['date','home','away']].reset_index(),df_gboost_prob_test,left_index=True,right_index=True)\n",
    "gboost_test_prob"
   ]
  },
  {
   "cell_type": "code",
   "execution_count": null,
   "metadata": {},
   "outputs": [],
   "source": [
    "xgb_test_proba = xgb.predict_proba(test_matches_1)\n",
    "df_xgb_prob_test = pd.DataFrame(xgb_test_proba)\n",
    "xgb_test_prob = pd.merge(test_matches[['date','home','away']].reset_index(),df_xgb_prob_test,left_index=True,right_index=True)\n",
    "xgb_test_prob"
   ]
  },
  {
   "cell_type": "code",
   "execution_count": null,
   "metadata": {},
   "outputs": [],
   "source": []
  },
  {
   "cell_type": "code",
   "execution_count": null,
   "metadata": {},
   "outputs": [],
   "source": []
  },
  {
   "cell_type": "code",
   "execution_count": null,
   "metadata": {},
   "outputs": [],
   "source": []
  },
  {
   "cell_type": "raw",
   "metadata": {},
   "source": [
    "random_forest_list = []\n",
    "lr_list = []\n",
    "svc_list = []\n",
    "et_list = []\n",
    "xgb_list = []\n",
    "ada_list = []\n",
    "gboost_list = []\n",
    "\n",
    "\n",
    "for i in range(1):\n",
    "    lr.fit(X_train,y_train)\n",
    "    rf.fit(X_train,y_train)\n",
    "    svc.fit(X_train,y_train)\n",
    "    et.fit(X_train,y_train)\n",
    "    ada.fit(X_train,y_train)\n",
    "    gboost.fit(X_train,y_train)\n",
    "    xgb.fit(X_train,y_train)\n",
    "    \n",
    "    lrp = lr.predict(X_test)\n",
    "    acc_lr = accuracy_score(y_test,lrp)\n",
    "    lr_list.append(acc_lr)\n",
    "\n",
    "    \n",
    "    rfp = rf.predict(X_test)\n",
    "    acc_rf = accuracy_score(y_test,rfp)\n",
    "    random_forest_list.append(acc_rf)\n",
    "    \n",
    "#    svcp = svc.predict(X_test)\n",
    "#    acc_svc = accuracy_score(y_test,svcp)\n",
    "#    svc_list.append(acc_svc)\n",
    "    \n",
    "    etp = et.predict(X_test)\n",
    "    acc_et = accuracy_score(y_test,etp)\n",
    "    et_list.append(acc_et)\n",
    "    \n",
    "#    adap = ada.predict(X_test)\n",
    "#    acc_ada = accuracy_score(y_test,adap)\n",
    "#    ada_list.append(acc_ada)\n",
    "    \n",
    "#    gp = gboost.predict(X_test)\n",
    "#    acc_gboost = accuracy_score(y_test,gp)\n",
    "#   gboost_list.append(acc_gboost)\n",
    "    \n",
    "    #xgbp = xgb.predict(X_test)\n",
    "    #acc_xgb = accuracy_score(y_test,xgbp)\n",
    "    #xgb_list.append(acc_xgb)\n",
    "    \n",
    "    \n",
    "print(\"Random Forest Accuracy:\", np.array(random_forest_list).mean(),np.array(random_forest_list).std())\n",
    "\n",
    "print(\"Logistic Regression Accuracy:\", np.array(lr_list).mean(),np.array(lr_list).std())\n",
    "\n",
    "#print(\"SVM Accuracy:\", np.array(svc_list).mean(),np.array(svc_list).std())\n",
    "\n",
    "print(\"Extra Trees Accuracy:\", np.array(et_list).mean(),np.array(et_list).std())    \n",
    "    \n",
    "#print(\"Ada Accuracy:\", np.array(ada_list).mean(),np.array(ada_list).std())    \n",
    "\n",
    "#print(\"G Boost Accuracy:\", np.array(gboost_list).mean(),np.array(gboost_list).std())    \n",
    "\n",
    "#print(\"XGB Accuracy:\", np.array(xgb_list).mean(),np.array(xgb_list).std())\n",
    "    \n",
    "    \n",
    "    \n",
    "    \n",
    "    "
   ]
  },
  {
   "cell_type": "code",
   "execution_count": null,
   "metadata": {},
   "outputs": [],
   "source": [
    "filename = 'logreg_model.pkl'\n",
    "pickle.dump(lr, open(filename, 'wb'))"
   ]
  },
  {
   "cell_type": "code",
   "execution_count": null,
   "metadata": {},
   "outputs": [],
   "source": [
    "filename = 'extratrees_model.pkl'\n",
    "pickle.dump(et, open(filename, 'wb'))"
   ]
  },
  {
   "cell_type": "code",
   "execution_count": null,
   "metadata": {},
   "outputs": [],
   "source": []
  }
 ],
 "metadata": {
  "kernelspec": {
   "display_name": "Python 3",
   "language": "python",
   "name": "python3"
  },
  "language_info": {
   "codemirror_mode": {
    "name": "ipython",
    "version": 3
   },
   "file_extension": ".py",
   "mimetype": "text/x-python",
   "name": "python",
   "nbconvert_exporter": "python",
   "pygments_lexer": "ipython3",
   "version": "3.8.5"
  },
  "toc": {
   "base_numbering": 1,
   "nav_menu": {},
   "number_sections": true,
   "sideBar": true,
   "skip_h1_title": false,
   "title_cell": "Table of Contents",
   "title_sidebar": "Contents",
   "toc_cell": false,
   "toc_position": {},
   "toc_section_display": true,
   "toc_window_display": false
  }
 },
 "nbformat": 4,
 "nbformat_minor": 4
}
